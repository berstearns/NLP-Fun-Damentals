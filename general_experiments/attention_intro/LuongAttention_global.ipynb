{
 "cells": [
  {
   "cell_type": "code",
   "execution_count": 1,
   "metadata": {},
   "outputs": [],
   "source": [
    "import unicodedata\n",
    "import re\n",
    "import random\n",
    "\n",
    "import torch\n",
    "import torch.nn as nn\n",
    "from torch import optim\n",
    "import torch.nn.functional as F\n",
    "\n",
    "import numpy as np\n",
    "from torch.utils.data import TensorDataset, DataLoader, RandomSampler\n",
    "from data_processing import prepareData, readLangs, normalizeString, filter_pair, translate_evaluate\n",
    "from tqdm import tqdm\n",
    "import logging\n",
    "\n",
    "logging.basicConfig(level=logging.INFO)\n",
    "\n",
    "logger = logging.getLogger('______')\n",
    "\n",
    "TRAIN_DATASET_PATH = \"./dataset/eng-fra-train.txt\"\n",
    "TEST_DATASET_PATH = \"./dataset/eng-fra-test.txt\"\n",
    "MAXLEN, SOS_TOKEN, EOS_TOKEN = 10, 0, 1"
   ]
  },
  {
   "cell_type": "code",
   "execution_count": 2,
   "metadata": {},
   "outputs": [],
   "source": [
    "def indexesFromSentence(lang, sentence):\n",
    "    return [lang.word2idx[word] for word in sentence.split(' ')]\n",
    "def get_dataloader(batch_size, path=TRAIN_DATASET_PATH):\n",
    "    fre, eng, pairs = prepareData(path, MAXLEN)\n",
    "    n = len(pairs)  \n",
    "    input_ids = np.zeros((n, MAXLEN), dtype=np.int32)\n",
    "    target_ids = np.zeros((n, MAXLEN), dtype=np.int32)\n",
    "    \n",
    "    for idx, (inp, tgt) in enumerate(pairs):\n",
    "        inp_ids = indexesFromSentence(fre, inp)\n",
    "        tgt_ids = indexesFromSentence(eng, tgt)\n",
    "        inp_ids.append(EOS_TOKEN)\n",
    "        tgt_ids.append(EOS_TOKEN)\n",
    "        input_ids[idx, :len(inp_ids)] = inp_ids\n",
    "        target_ids[idx, :len(tgt_ids)] = tgt_ids\n",
    "\n",
    "    train_data = TensorDataset(torch.LongTensor(input_ids),\n",
    "                               torch.LongTensor(target_ids))\n",
    "    train_sampler = RandomSampler(train_data)\n",
    "    train_dataloader = DataLoader(train_data, sampler=train_sampler, batch_size=batch_size)\n",
    "    return fre, eng, train_dataloader, train_data"
   ]
  },
  {
   "cell_type": "code",
   "execution_count": 3,
   "metadata": {},
   "outputs": [],
   "source": [
    "class EncoderRNN(nn.Module):\n",
    "    def __init__(self, input_size, hidden_size, dropout_p=0.1) -> None:\n",
    "        super(EncoderRNN, self).__init__()\n",
    "        self.hidden_size = hidden_size\n",
    "        self.embedding = nn.Embedding(input_size, hidden_size)\n",
    "        self.gru = nn.GRU(hidden_size, hidden_size, batch_first=True)\n",
    "        self.dropout = nn.Dropout(p=dropout_p)\n",
    "\n",
    "    def forward(self, inputx):\n",
    "        # logger.debug(f'input shape : {inputx.shape}')\n",
    "        embedded = self.dropout(self.embedding(inputx))\n",
    "        # logger.debug(f'embedding shape: {embedded.shape}')\n",
    "        output, hidden = self.gru(embedded)\n",
    "        # logger.debug(f'gru output: {output.shape},  hidden: {hidden.shape}' )\n",
    "        return output, hidden"
   ]
  },
  {
   "cell_type": "code",
   "execution_count": 4,
   "metadata": {},
   "outputs": [],
   "source": [
    "class LuongAttention(nn.Module):\n",
    "    def __init__(self, method, hidden_size, max_length=10):\n",
    "        super(LuongAttention, self).__init__()\n",
    "        self.method = method\n",
    "        print('SELF METHOd', self.method)\n",
    "        self.hidden_size = hidden_size\n",
    "\n",
    "        if self.method == 'general':\n",
    "            self.attn = nn.Linear(self.hidden_size, self.hidden_size)\n",
    "        \n",
    "        elif self.method == 'concat':\n",
    "            self.attn = nn.Linear(self.hidden_size * 2, self.hidden_size)\n",
    "            self.v = nn.Parameter(torch.FloatTensor(1, hidden_size))\n",
    "    \n",
    "    def score(self, query, keys):\n",
    "        if self.method == 'dot':\n",
    "            energy = torch.matmul(query, keys.permute(0, 2, 1))\n",
    "            # print(f'energy: {energy.shape}')\n",
    "            return energy\n",
    "        elif self.method == 'general':\n",
    "            energy = self.attn(keys)\n",
    "            # print(f'energy :{energy.shape}')\n",
    "            energy = torch.matmul(query, energy.permute(0, 2, 1))\n",
    "            return energy\n",
    "        elif self.method == 'concat':\n",
    "            query_to_key_broadcast = query.expand(-1, keys.size(1), -1)\n",
    "            energy = self.attn(torch.cat((query_to_key_broadcast, keys), 2))\n",
    "            # print(f'energy: {energy.shape}, v: {self.v.shape}')\n",
    "            energy = torch.matmul(energy, self.v.T)\n",
    "            return energy.permute(0, 2, 1)\n",
    "    \n",
    "    def forward(self, hidden, encoder_outputs):\n",
    "        score = self.score(hidden, encoder_outputs)\n",
    "        # print(f'score: {score.shape}')\n",
    "        attention_weights = F.softmax(score, dim=-1)\n",
    "        context = torch.bmm(attention_weights, encoder_outputs)\n",
    "        return context, attention_weights"
   ]
  },
  {
   "cell_type": "code",
   "execution_count": 5,
   "metadata": {},
   "outputs": [],
   "source": [
    "class LuongAttnDecoderRNN(nn.Module):\n",
    "    def __init__(self, hidden_size, output_size, method, dropout_p=0.1) -> None:\n",
    "        super(LuongAttnDecoderRNN, self).__init__()\n",
    "        self.embedding = nn.Embedding(output_size, hidden_size)\n",
    "        self.attention = LuongAttention(method, hidden_size=hidden_size)\n",
    "        self.gru = nn.GRU(hidden_size*2, hidden_size, batch_first=True)\n",
    "        # self.pre_out = nn.Linear(hidden_size*2, hidden_size)\n",
    "        self.out = nn.Linear(hidden_size, output_size)\n",
    "        self.dropout = nn.Dropout(dropout_p)\n",
    "\n",
    "    def forward_step(self, input_x, hidden, encoder_outputs):\n",
    "        embedded = self.dropout(self.embedding(input_x))\n",
    "        query = hidden.permute(1, 0, 2)        \n",
    "\n",
    "        context, attn_weights = self.attention(query, encoder_outputs)\n",
    "        input_gru = torch.cat((embedded, context), dim=2)\n",
    "        \n",
    "        gru_output, gru_hidden = self.gru(input_gru, hidden)\n",
    "        output = self.out(gru_output)\n",
    "        return output, gru_hidden, attn_weights\n",
    "\n",
    "\n",
    "    def forward(self, encoder_outputs, encoder_hidden, target_tensor=None):\n",
    "        batch_size = encoder_outputs.size(0)\n",
    "        decoder_input = torch.empty(batch_size, 1, dtype=torch.long).fill_(SOS_TOKEN)\n",
    "        decoder_hidden = encoder_hidden\n",
    "        decoder_outputs = []\n",
    "        attentions = []\n",
    "\n",
    "        for i in range(MAXLEN):\n",
    "            \n",
    "            decoder_output, decoder_hidden, attn_weights = self.forward_step(decoder_input, decoder_hidden, encoder_outputs)\n",
    "            \n",
    "            decoder_outputs.append(decoder_output)\n",
    "            attentions.append(attn_weights)\n",
    "            if target_tensor is not None:\n",
    "                # Teacher forcing: Feed the target as the next input\n",
    "                decoder_input = target_tensor[:, i].unsqueeze(1) # Teacher forcing\n",
    "            else:\n",
    "                # Without teacher forcing: use its own predictions as the next input\n",
    "                _, topi = decoder_output.topk(1)\n",
    "                decoder_input = topi.squeeze(-1).detach()  # detach from history as input\n",
    "        \n",
    "        decoder_outputs = torch.cat(decoder_outputs, dim=1)\n",
    "        decoder_outputs = F.log_softmax(decoder_outputs, dim=-1)\n",
    "        attentions = torch.cat(attentions, dim=1)\n",
    "        return decoder_outputs, decoder_hidden, attentions\n"
   ]
  },
  {
   "cell_type": "code",
   "execution_count": 8,
   "metadata": {},
   "outputs": [],
   "source": [
    "input_lang, output_lang, train_dataloader, train_dset = get_dataloader(32)\n",
    "hidden_size = 128\n",
    "learning_rate = 0.001\n",
    "output_size = output_lang.n_words\n",
    "criterion = nn.NLLLoss() \n",
    "test_ds = []\n",
    "with open(TEST_DATASET_PATH) as f:\n",
    "    for line in f:\n",
    "        engtext, fretext = line.split('\\t')\n",
    "        test_ds.append([normalizeString(fretext), normalizeString(engtext)])\n",
    "    test_ds = [pair for pair in test_ds if filter_pair(pair, MAXLEN)] \n"
   ]
  },
  {
   "cell_type": "markdown",
   "metadata": {},
   "source": [
    "### Initialisation and training for each scoring function\n",
    "```python\n",
    "at_encoder = EncoderRNN(input_lang.n_words, hidden_size)\n",
    "at_decoder = LuongAttnDecoderRNN(hidden_size=hidden_size, output_size=output_size, method=\"general\")\n",
    "at_encoder_optimizer = optim.Adam(at_encoder.parameters(), lr=learning_rate)\n",
    "at_decoder_optimizer = optim.Adam(at_decoder.parameters(), lr=learning_rate)\n",
    "\n",
    "\n",
    "EPOCHS = 3\n",
    "\n",
    "plot_stats = {\n",
    "    'bleu_test': [],\n",
    "    'avg_train_loss': [],\n",
    "    'avg_test_loss': []\n",
    "}\n",
    "\n",
    "for epoch in tqdm(range(EPOCHS)):\n",
    "    \n",
    "    dpoints = 0\n",
    "    epoch_loss = 0\n",
    "    at_encoder.train(), at_decoder.train()\n",
    "\n",
    "    for batch in train_dataloader:\n",
    "        input_tensor, target_tensor = batch\n",
    "        at_encoder_optimizer.zero_grad()\n",
    "        at_decoder_optimizer.zero_grad()\n",
    "        enc_output, enc_hidden = at_encoder(input_tensor)\n",
    "        decoder_outputs, decoder_hidden, _ = at_decoder(enc_output, enc_hidden, target_tensor)\n",
    "        loss = criterion(\n",
    "            decoder_outputs.view(-1, decoder_outputs.size(-1)),\n",
    "            target_tensor.view(-1)\n",
    "        )\n",
    "        loss.backward()\n",
    "        at_encoder_optimizer.step()\n",
    "        at_decoder_optimizer.step()\n",
    "        epoch_loss +=loss.item()\n",
    "        dpoints += input_tensor.shape[0]\n",
    "        \n",
    "    bleu_dict, avg_test_loss = translate_evaluate(input_lang, output_lang, test_ds, at_encoder, at_decoder)\n",
    "    print(f'Average Training Loss: {epoch_loss/dpoints}, Average Test Loss: {avg_test_loss}, TEST BLEU: {bleu_dict[\"bleu\"]}')\n",
    "```\n",
    "   "
   ]
  },
  {
   "cell_type": "code",
   "execution_count": 15,
   "metadata": {},
   "outputs": [
    {
     "name": "stderr",
     "output_type": "stream",
     "text": [
      "  0%|          | 0/3 [00:00<?, ?it/s]"
     ]
    },
    {
     "name": "stderr",
     "output_type": "stream",
     "text": [
      " 33%|███▎      | 1/3 [00:10<00:20, 10.36s/it]"
     ]
    },
    {
     "name": "stdout",
     "output_type": "stream",
     "text": [
      "Average Training Loss: 0.07938748718084765, Average Test Loss: 0.18434398914983885, TEST BLEU: 0.05782714484246687\n"
     ]
    },
    {
     "name": "stderr",
     "output_type": "stream",
     "text": [
      " 67%|██████▋   | 2/3 [00:20<00:10, 10.29s/it]"
     ]
    },
    {
     "name": "stdout",
     "output_type": "stream",
     "text": [
      "Average Training Loss: 0.05401089288121147, Average Test Loss: 0.18453903421887843, TEST BLEU: 0.10364653575068261\n"
     ]
    },
    {
     "name": "stderr",
     "output_type": "stream",
     "text": [
      "100%|██████████| 3/3 [00:30<00:00, 10.27s/it]"
     ]
    },
    {
     "name": "stdout",
     "output_type": "stream",
     "text": [
      "Average Training Loss: 0.04637870818251918, Average Test Loss: 0.17566075833857367, TEST BLEU: 0.14967712563209534\n"
     ]
    },
    {
     "name": "stderr",
     "output_type": "stream",
     "text": [
      "\n"
     ]
    }
   ],
   "source": [
    "\n"
   ]
  },
  {
   "cell_type": "code",
   "execution_count": 9,
   "metadata": {},
   "outputs": [],
   "source": [
    "def train_valid_loop(attention_method):\n",
    "    \n",
    "    at_encoder = EncoderRNN(input_lang.n_words, hidden_size)\n",
    "    at_decoder = LuongAttnDecoderRNN(hidden_size=hidden_size, output_size=output_size, method=attention_method)\n",
    "    at_encoder_optimizer = optim.Adam(at_encoder.parameters(), lr=learning_rate)\n",
    "    at_decoder_optimizer = optim.Adam(at_decoder.parameters(), lr=learning_rate)\n",
    "    EPOCHS = 50\n",
    "\n",
    "    plot_stats = {\n",
    "        'bleu_test': [],\n",
    "        'avg_train_loss': [],\n",
    "        'avg_test_loss': []\n",
    "    }\n",
    "\n",
    "    for epoch in tqdm(range(EPOCHS)):\n",
    "        \n",
    "        dpoints = 0\n",
    "        epoch_loss = 0\n",
    "        at_encoder.train(), at_decoder.train()\n",
    "\n",
    "        for batch in train_dataloader:\n",
    "            input_tensor, target_tensor = batch\n",
    "            at_encoder_optimizer.zero_grad()\n",
    "            at_decoder_optimizer.zero_grad()\n",
    "            enc_output, enc_hidden = at_encoder(input_tensor)\n",
    "            decoder_outputs, decoder_hidden, attention = at_decoder(enc_output, enc_hidden, target_tensor)\n",
    "            loss = criterion(\n",
    "                decoder_outputs.view(-1, decoder_outputs.size(-1)),\n",
    "                target_tensor.view(-1)\n",
    "            )\n",
    "            loss.backward()\n",
    "            at_encoder_optimizer.step()\n",
    "            at_decoder_optimizer.step()\n",
    "            epoch_loss +=loss.item()\n",
    "            dpoints += input_tensor.shape[0]\n",
    "        bleu_dict, test_loss = translate_evaluate(input_lang, output_lang, test_ds, at_encoder, at_decoder)\n",
    "        plot_stats['bleu_test'].append(bleu_dict['bleu'])\n",
    "        plot_stats['avg_train_loss'].append(epoch_loss/dpoints)\n",
    "        plot_stats['avg_test_loss'].append(test_loss)\n",
    "    return plot_stats\n",
    "\n",
    "\n"
   ]
  },
  {
   "cell_type": "code",
   "execution_count": 10,
   "metadata": {},
   "outputs": [
    {
     "name": "stdout",
     "output_type": "stream",
     "text": [
      "SELF METHOd general\n"
     ]
    },
    {
     "name": "stderr",
     "output_type": "stream",
     "text": [
      "100%|██████████| 50/50 [08:53<00:00, 10.67s/it]\n"
     ]
    },
    {
     "name": "stdout",
     "output_type": "stream",
     "text": [
      "SELF METHOd dot\n"
     ]
    },
    {
     "name": "stderr",
     "output_type": "stream",
     "text": [
      "100%|██████████| 50/50 [08:01<00:00,  9.63s/it]\n"
     ]
    },
    {
     "name": "stdout",
     "output_type": "stream",
     "text": [
      "SELF METHOd concat\n"
     ]
    },
    {
     "name": "stderr",
     "output_type": "stream",
     "text": [
      "100%|██████████| 50/50 [09:06<00:00, 10.93s/it]\n"
     ]
    }
   ],
   "source": [
    "methods = ['general', 'dot', 'concat']\n",
    "\n",
    "performance_dict = {method: train_valid_loop(method) for method in methods}"
   ]
  },
  {
   "cell_type": "code",
   "execution_count": 14,
   "metadata": {},
   "outputs": [],
   "source": [
    "from plotly.subplots import make_subplots\n",
    "import plotly.graph_objects as go\n"
   ]
  },
  {
   "cell_type": "code",
   "execution_count": 23,
   "metadata": {},
   "outputs": [],
   "source": [
    "atten_list = list(performance_dict.keys())\n",
    "\n",
    "colours = {\"avg_train_loss\":\"red\", \n",
    " \"avg_test_loss\": \"orange\",\n",
    " \"bleu_test\": \"black\"}\n",
    "epochs = list(range(1, 51))"
   ]
  },
  {
   "cell_type": "code",
   "execution_count": 42,
   "metadata": {},
   "outputs": [
    {
     "data": {
      "image/png": "[encoded data removed]"
     },
     "metadata": {},
     "output_type": "display_data"
    }
   ],
   "source": [
    "fig = make_subplots(rows=1, cols=3, shared_yaxes=True, column_titles=atten_list)\n",
    "for plot_i, plot_name in enumerate(atten_list):\n",
    "    s_legend = True if plot_i==0  else False\n",
    "    for i, ks in enumerate(performance_dict[plot_name]):\n",
    "        y_val = performance_dict[plot_name][ks]\n",
    "        y_name = ks\n",
    "        fig.add_trace(go.Scatter(x=epochs, \n",
    "                                 y=y_val, \n",
    "                                 mode='lines',\n",
    "                                 name=y_name, \n",
    "                                 marker=dict(color= colours[y_name]), showlegend=s_legend),\n",
    "                                 row = 1,\n",
    "                                 col=plot_i+1)\n",
    "fig.layout['title'] = 'Losses And Bleu (Luoang)'\n",
    "fig.show(renderer=\"png\")"
   ]
  },
  {
   "cell_type": "code",
   "execution_count": null,
   "metadata": {},
   "outputs": [],
   "source": []
  }
 ],
 "metadata": {
  "kernelspec": {
   "display_name": "torch_learn",
   "language": "python",
   "name": "python3"
  },
  "language_info": {
   "codemirror_mode": {
    "name": "ipython",
    "version": 3
   },
   "file_extension": ".py",
   "mimetype": "text/x-python",
   "name": "python",
   "nbconvert_exporter": "python",
   "pygments_lexer": "ipython3",
   "version": "3.10.4"
  },
  "orig_nbformat": 4
 },
 "nbformat": 4,
 "nbformat_minor": 2
}
