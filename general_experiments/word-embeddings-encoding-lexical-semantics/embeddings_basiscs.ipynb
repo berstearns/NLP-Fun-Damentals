{
 "cells": [
  {
   "cell_type": "code",
   "execution_count": 1,
   "metadata": {},
   "outputs": [],
   "source": [
    "import torch\n",
    "from torch import nn\n",
    "from torch.nn import functional as F\n",
    "from torch import optim\n",
    "import numpy as np\n",
    "import pandas as pd\n",
    "import string\n",
    "from nltk import word_tokenize\n",
    "import re\n",
    "punct = string.punctuation\n",
    "from nltk.stem import WordNetLemmatizer\n",
    "\n",
    "lemmatizer = WordNetLemmatizer()"
   ]
  },
  {
   "cell_type": "code",
   "execution_count": 2,
   "metadata": {},
   "outputs": [],
   "source": [
    "df = pd.read_csv('/Users/gauneg/datasets/fun_dsets/sourth_park_ds.csv')"
   ]
  },
  {
   "cell_type": "code",
   "execution_count": 3,
   "metadata": {},
   "outputs": [],
   "source": [
    "test_sentence = \"\"\"When forty winters shall besiege thy brow,\n",
    "And dig deep trenches in thy beauty's field,\n",
    "Thy youth's proud livery so gazed on now,\n",
    "Will be a totter'd weed of small worth held:\n",
    "Then being asked, where all thy beauty lies,\n",
    "Where all the treasure of thy lusty days;\n",
    "To say, within thine own deep sunken eyes,\n",
    "Were an all-eating shame, and thriftless praise.\n",
    "How much more praise deserv'd thy beauty's use,\n",
    "If thou couldst answer 'This fair child of mine\n",
    "Shall sum my count, and make my old excuse,'\n",
    "Proving his beauty by succession thine!\n",
    "This were to be new made when thou art old,\n",
    "And see thy blood warm when thou feel'st it cold.\"\"\".split()\n",
    "\n",
    "\n",
    "CONTEXT_SIZE = 2\n",
    "EMBEDDINGS_DIM = 10"
   ]
  },
  {
   "cell_type": "code",
   "execution_count": 4,
   "metadata": {},
   "outputs": [],
   "source": [
    "def context_ngrams(word_arr, context_size, mode=\"uni_dir\"):\n",
    "    txt = []\n",
    "    end_point = len(word_arr) - context_size if mode==\"bi_dir\" else len(word_arr)\n",
    "    for i in range(context_size, end_point):\n",
    "        if mode==\"uni_dir\":\n",
    "            txt.append([word_arr[i-context_size: i], word_arr[i]])\n",
    "        else:\n",
    "            txt.append([word_arr[i-context_size: i] +  word_arr[i+1: i + context_size+1], \n",
    "                        word_arr[i]])\n",
    "    return txt\n"
   ]
  },
  {
   "cell_type": "code",
   "execution_count": 5,
   "metadata": {},
   "outputs": [],
   "source": [
    "vocab = set(test_sentence)\n",
    "word_to_ix = {word:i for i, word in enumerate(vocab)}\n",
    "\n",
    "ngrams = context_ngrams(test_sentence, CONTEXT_SIZE)"
   ]
  },
  {
   "cell_type": "code",
   "execution_count": 6,
   "metadata": {},
   "outputs": [],
   "source": [
    "class NGramLanguageModeler(nn.Module):\n",
    "    def __init__(self, vocab_size, embedding_dim, context_size) -> None:\n",
    "        super(NGramLanguageModeler, self).__init__()\n",
    "        self.embeddings = nn.Embedding(vocab_size, embedding_dim)\n",
    "        self.liner1 = nn.Linear(context_size * embedding_dim, 128, )\n",
    "        self.liner2 = nn.Linear(128, vocab_size)\n",
    "\n",
    "    def forward(self, inputs):\n",
    "        embeds = self.embeddings(inputs).view((1, -1))\n",
    "        # print('Embedding output', embeds.shape)\\\n",
    "        out = F.relu(self.liner1(embeds))\n",
    "        \n",
    "        out = self.liner2(out)\n",
    "        log_probs = F.log_softmax(out, dim=1)\n",
    "        return log_probs\n",
    "        "
   ]
  },
  {
   "cell_type": "code",
   "execution_count": 7,
   "metadata": {},
   "outputs": [],
   "source": [
    "loss_function = nn.NLLLoss()\n",
    "model = NGramLanguageModeler(len(vocab), EMBEDDINGS_DIM, CONTEXT_SIZE)\n",
    "optimizer = optim.SGD(model.parameters(), lr=0.001)"
   ]
  },
  {
   "cell_type": "code",
   "execution_count": null,
   "metadata": {},
   "outputs": [],
   "source": [
    "for epoch in range(100):\n",
    "    total_loss = 0\n",
    "    for context, target in ngrams:\n",
    "        context_ids = torch.tensor(list(map(lambda x: word_to_ix[x], context)), dtype=torch.long)\n",
    "        lab_ids = torch.tensor([word_to_ix[target]], dtype=torch.long)\n",
    "        model.zero_grad()\n",
    "        log_probs = model(context_ids)\n",
    "        loss = loss_function(log_probs, lab_ids)\n",
    "\n",
    "        loss.backward()\n",
    "        optimizer.step()\n",
    "        total_loss += loss.item()\n",
    "    print(total_loss)\n",
    "        "
   ]
  },
  {
   "cell_type": "code",
   "execution_count": 9,
   "metadata": {},
   "outputs": [
    {
     "name": "stdout",
     "output_type": "stream",
     "text": [
      "context:['field,', 'Thy'], target:youth's, pred:youth's\n"
     ]
    }
   ],
   "source": [
    "PRED_INDEX = 14\n",
    "ix_to_word = {v:k for k,v in word_to_ix.items()}\n",
    "with torch.no_grad():\n",
    "\n",
    "    for i, (context, target) in enumerate(ngrams):\n",
    "        if i==PRED_INDEX:\n",
    "            context_ids = torch.tensor(list(map(lambda x: word_to_ix[x], context)), dtype=torch.long)\n",
    "            lab_ids = torch.tensor([word_to_ix[target]], dtype=torch.long)\n",
    "            y_pred = model(context_ids)\n",
    "            pred_index = y_pred.argmax(dim=-1)\n",
    "            print(f\"context:{context}, target:{target}, pred:{ix_to_word[pred_index[0].item()]}\")\n"
   ]
  }
 ],
 "metadata": {
  "kernelspec": {
   "display_name": "torch_learn",
   "language": "python",
   "name": "python3"
  },
  "language_info": {
   "codemirror_mode": {
    "name": "ipython",
    "version": 3
   },
   "file_extension": ".py",
   "mimetype": "text/x-python",
   "name": "python",
   "nbconvert_exporter": "python",
   "pygments_lexer": "ipython3",
   "version": "3.10.4"
  },
  "orig_nbformat": 4
 },
 "nbformat": 4,
 "nbformat_minor": 2
}
