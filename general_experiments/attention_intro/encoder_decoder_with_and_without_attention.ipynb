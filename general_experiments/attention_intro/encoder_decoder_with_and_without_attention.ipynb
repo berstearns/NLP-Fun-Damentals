{
 "cells": [
  {
   "cell_type": "code",
   "execution_count": 1,
   "metadata": {},
   "outputs": [],
   "source": [
    "import unicodedata\n",
    "import re\n",
    "import random\n",
    "\n",
    "import torch\n",
    "import torch.nn as nn\n",
    "from torch import optim\n",
    "import torch.nn.functional as F\n",
    "\n",
    "import numpy as np\n",
    "from torch.utils.data import TensorDataset, DataLoader, RandomSampler\n",
    "from data_processing import prepareData, readLangs, normalizeString, filter_pair, translate_evaluate\n",
    "from tqdm import tqdm\n",
    "import plotly.graph_objects as go\n",
    "\n",
    "TRAIN_DATASET_PATH = \"./dataset/eng-fra-train.txt\"\n",
    "TEST_DATASET_PATH = \"./dataset/eng-fra-test.txt\"\n"
   ]
  },
  {
   "cell_type": "code",
   "execution_count": 2,
   "metadata": {},
   "outputs": [],
   "source": [
    "MAXLEN = 10\n",
    "eng, fre, pairs = prepareData(TRAIN_DATASET_PATH, MAXLEN)\n",
    "\n",
    "SOS_TOKEN = 0\n",
    "EOS_TOKEN = 1\n",
    "\n",
    "## FRENCH - TO - ENGLISH"
   ]
  },
  {
   "cell_type": "code",
   "execution_count": 3,
   "metadata": {},
   "outputs": [],
   "source": [
    "# text vector in hidden layers out\n",
    "class EncoderRNN(nn.Module):\n",
    "    def __init__(self, input_size, hidden_size, dropout_p=0.1) -> None:\n",
    "        super(EncoderRNN, self).__init__()\n",
    "        self.hidden_size = hidden_size\n",
    "        self.embedding = nn.Embedding(input_size, hidden_size)\n",
    "        self.gru = nn.GRU(hidden_size, hidden_size, batch_first=True)\n",
    "        self.dropout = nn.Dropout(p=dropout_p)\n",
    "\n",
    "    def forward(self, inputx):\n",
    "        # print('input shape', inputx.shape)\n",
    "        embedded = self.dropout(self.embedding(inputx))\n",
    "        # print('embedding shape', embedded.shape)\n",
    "        output, hidden = self.gru(embedded)\n",
    "        # print('gru output hidden', output.shape, hidden.shape)\n",
    "        return output, hidden"
   ]
  },
  {
   "cell_type": "code",
   "execution_count": 4,
   "metadata": {},
   "outputs": [],
   "source": [
    "class DecoderRNN(nn.Module):\n",
    "    def __init__(self, hidden_size, output_size) -> None:\n",
    "        super(DecoderRNN, self).__init__()\n",
    "        # print(f'hidden_size: {hidden_size}, output_size:{output_size}')\n",
    "        self.embedding = nn.Embedding(output_size, hidden_size)\n",
    "        self.gru = nn.GRU(hidden_size, hidden_size, batch_first=True)\n",
    "        self.out = nn.Linear(hidden_size, output_size)\n",
    "\n",
    "    def forward(self, encoder_outputs, encoder_hidden, target_tensor=None):\n",
    "        batch_size = encoder_outputs.size(0)\n",
    "        decoder_input = torch.empty(batch_size, 1, dtype=torch.long).fill_(SOS_TOKEN)\n",
    "        # print(f'decoder input: {decoder_input.shape}')\n",
    "        decoder_hidden = encoder_hidden\n",
    "        decoder_outputs = []\n",
    "\n",
    "        for i in range(MAXLEN):\n",
    "            # print(f'decoder HIDDED:{decoder_output.shape} , ')\n",
    "            decoder_output, decoder_hidden = self.forward_step(decoder_input, decoder_hidden)\n",
    "            # print(f'decoder output shape: {decoder_output.shape}')\n",
    "            decoder_outputs.append(decoder_output)\n",
    "\n",
    "            if target_tensor is not None:\n",
    "                decoder_input = target_tensor[:, i].unsqueeze(1)\n",
    "            \n",
    "            else:\n",
    "                _, topi = decoder_output.topk(1)\n",
    "                decoder_input = topi.squeeze(-1).detach()\n",
    "        \n",
    "        decoder_outputs = torch.cat(decoder_outputs, dim=1)\n",
    "        decoder_outputs = F.log_softmax(decoder_outputs, dim=-1)\n",
    "        return decoder_outputs, decoder_hidden, None\n",
    "\n",
    "\n",
    "    def forward_step(self, inputs, hidden):\n",
    "        output = self.embedding(inputs)\n",
    "        output = F.relu(output)\n",
    "        # print(f'output{output.shape}, hidden: {hidden.shape}')\n",
    "        output, hidden = self.gru(output, hidden)\n",
    "        output = self.out(output)\n",
    "        return output, hidden"
   ]
  },
  {
   "cell_type": "code",
   "execution_count": 5,
   "metadata": {},
   "outputs": [],
   "source": [
    "class BahdanauAttention(nn.Module):\n",
    "    def __init__(self, hidden_size) -> None:\n",
    "        super(BahdanauAttention, self).__init__()\n",
    "        self.Wa = nn.Linear(hidden_size, hidden_size) # has parameters for query (hidden state)\n",
    "        self.Ua = nn.Linear(hidden_size, hidden_size) # has parameters for key (encoder hidden state)\n",
    "        self.Va = nn.Linear(hidden_size, 1) \n",
    "    \n",
    "    def forward(self, query, keys):\n",
    "        scores = self.Va(torch.tanh(self.Wa(query) + self.Ua(keys)))\n",
    "        scores = scores.squeeze(2).unsqueeze(1)\n",
    "        weights = F.softmax(scores, dim=-1) # To produce predictive distribution\n",
    "        context = torch.bmm(weights, keys)\n",
    "        return context, weights\n",
    "\n",
    "class AttnDecoderRNN(nn.Module):\n",
    "\n",
    "    def __init__(self, hidden_size, output_size, dropout_p=0.1) -> None:\n",
    "        super(AttnDecoderRNN, self).__init__()\n",
    "        self.embedding = nn.Embedding(output_size, hidden_size)\n",
    "        self.attention = BahdanauAttention(hidden_size)\n",
    "        self.gru = nn.GRU(2*hidden_size, hidden_size, batch_first=True)\n",
    "        self.out = nn.Linear(hidden_size, output_size)\n",
    "        self.dropout = nn.Dropout(dropout_p)\n",
    "\n",
    "    def forward_step(self, input_x, hidden, encoder_outputs):\n",
    "        embedded = self.dropout(self.embedding(input_x))\n",
    "        query = hidden.permute(1, 0, 2)\n",
    "        context, att_weight = self.attention(query, encoder_outputs)\n",
    "        input_gru = torch.cat((embedded, context), dim=2)\n",
    "        output, hidden = self.gru(input_gru, hidden)\n",
    "        output = self.out(output)\n",
    "        return output, hidden, att_weight\n",
    "\n",
    "\n",
    "    def forward(self, encoder_outputs, encoder_hidden, target_tensor=None):\n",
    "        batch_size = encoder_outputs.size(0)\n",
    "        decoder_input = torch.empty(batch_size, 1, dtype=torch.long).fill_(SOS_TOKEN)\n",
    "        decoder_hidden = encoder_hidden\n",
    "        decoder_outputs = []\n",
    "        attentions = []\n",
    "\n",
    "        for i in range(MAXLEN)        :\n",
    "            decoder_output, decoder_hidden, attn_weights = self.forward_step(decoder_input, decoder_hidden, encoder_outputs)\n",
    "            decoder_outputs.append(decoder_output)\n",
    "            attentions.append(attn_weights)\n",
    "            if target_tensor is not None:\n",
    "                # Teacher forcing: Feed the target as the next input\n",
    "                decoder_input = target_tensor[:, i].unsqueeze(1) # Teacher forcing\n",
    "            else:\n",
    "                # Without teacher forcing: use its own predictions as the next input\n",
    "                _, topi = decoder_output.topk(1)\n",
    "                decoder_input = topi.squeeze(-1).detach()  # detach from history as input\n",
    "        \n",
    "        decoder_outputs = torch.cat(decoder_outputs, dim=1)\n",
    "        decoder_outputs = F.log_softmax(decoder_outputs, dim=-1)\n",
    "        attentions = torch.cat(attentions, dim=1)\n",
    "        return decoder_outputs, decoder_hidden, attentions\n",
    "\n",
    "\n"
   ]
  },
  {
   "cell_type": "code",
   "execution_count": 6,
   "metadata": {},
   "outputs": [],
   "source": [
    "def indexesFromSentence(lang, sentence):\n",
    "    return [lang.word2idx[word] for word in sentence.split(' ')]\n",
    "\n",
    "def tensorFromSentence(lang, sentence):\n",
    "    indexes = [lang.word2idx[word] for word in sentence.split(' ')]\n",
    "    sent_idx = torch.tensor(indexes, dtype=torch.long).view(1, -1)\n",
    "    return sent_idx\n",
    "\n",
    "\n",
    "def tensorsFromPair(pair, input_lang, output_lang):\n",
    "    input_tensor = tensorFromSentence(input_lang, pair[0])\n",
    "    output_tensor = tensorFromSentence(output_lang, pair[1])\n",
    "    return input_tensor, output_tensor\n",
    "\n",
    "def get_dataloader(batch_size, path=TRAIN_DATASET_PATH):\n",
    "    fre, eng, pairs = prepareData(path, MAXLEN)\n",
    "    n = len(pairs)  \n",
    "    input_ids = np.zeros((n, MAXLEN), dtype=np.int32)\n",
    "    target_ids = np.zeros((n, MAXLEN), dtype=np.int32)\n",
    "    \n",
    "    for idx, (inp, tgt) in enumerate(pairs):\n",
    "        inp_ids = indexesFromSentence(fre, inp)\n",
    "        tgt_ids = indexesFromSentence(eng, tgt)\n",
    "        inp_ids.append(EOS_TOKEN)\n",
    "        tgt_ids.append(EOS_TOKEN)\n",
    "        input_ids[idx, :len(inp_ids)] = inp_ids\n",
    "        target_ids[idx, :len(tgt_ids)] = tgt_ids\n",
    "\n",
    "    train_data = TensorDataset(torch.LongTensor(input_ids),\n",
    "                               torch.LongTensor(target_ids))\n",
    "    train_sampler = RandomSampler(train_data)\n",
    "    train_dataloader = DataLoader(train_data, sampler=train_sampler, batch_size=batch_size)\n",
    "    return fre, eng, train_dataloader, train_data"
   ]
  },
  {
   "attachments": {},
   "cell_type": "markdown",
   "metadata": {},
   "source": [
    "### TRAINING WITHOUT ATTENTION"
   ]
  },
  {
   "cell_type": "code",
   "execution_count": 7,
   "metadata": {},
   "outputs": [],
   "source": [
    "input_lang, output_lang, train_dataloader, train_dset = get_dataloader(32)\n",
    "test_ds = []\n",
    "with open(TEST_DATASET_PATH) as f:\n",
    "    for line in f:\n",
    "        engtext, fretext = line.split('\\t')\n",
    "        test_ds.append([normalizeString(fretext), normalizeString(engtext)])\n",
    "    test_ds = [pair for pair in test_ds if filter_pair(pair, MAXLEN)]    \n",
    "    \n",
    "loss = []\n",
    "hidden_size = 128\n",
    "learning_rate = 0.001\n",
    "encoder = EncoderRNN(input_lang.n_words, hidden_size)\n",
    "decoder = DecoderRNN(hidden_size, output_lang.n_words)\n",
    "encoder_optimizer = optim.Adam(encoder.parameters(), lr=learning_rate)\n",
    "decoder_optimizer = optim.Adam(decoder.parameters(), lr=learning_rate)\n",
    "criterion = nn.NLLLoss() \n",
    "EPOCHS = 25"
   ]
  },
  {
   "cell_type": "code",
   "execution_count": 8,
   "metadata": {},
   "outputs": [
    {
     "name": "stderr",
     "output_type": "stream",
     "text": [
      "  0%|          | 0/322 [00:00<?, ?it/s]"
     ]
    },
    {
     "name": "stderr",
     "output_type": "stream",
     "text": [
      "100%|██████████| 322/322 [00:08<00:00, 39.66it/s]\n",
      "100%|██████████| 322/322 [00:08<00:00, 38.73it/s]\n",
      "100%|██████████| 322/322 [00:08<00:00, 39.77it/s]\n",
      "100%|██████████| 322/322 [00:08<00:00, 39.44it/s]\n",
      "100%|██████████| 322/322 [00:08<00:00, 39.60it/s]\n",
      "100%|██████████| 322/322 [00:07<00:00, 41.53it/s]\n",
      "100%|██████████| 322/322 [00:08<00:00, 38.04it/s]\n",
      "100%|██████████| 322/322 [00:07<00:00, 40.96it/s]\n",
      "100%|██████████| 322/322 [00:08<00:00, 37.72it/s]\n",
      "100%|██████████| 322/322 [00:08<00:00, 39.05it/s]\n",
      "100%|██████████| 322/322 [00:08<00:00, 37.86it/s]\n",
      "100%|██████████| 322/322 [00:08<00:00, 36.95it/s]\n",
      "100%|██████████| 322/322 [00:08<00:00, 37.96it/s]\n",
      "100%|██████████| 322/322 [00:08<00:00, 38.55it/s]\n",
      "100%|██████████| 322/322 [00:08<00:00, 39.34it/s]\n",
      "100%|██████████| 322/322 [00:07<00:00, 42.12it/s]\n",
      "100%|██████████| 322/322 [00:07<00:00, 44.23it/s]\n",
      "100%|██████████| 322/322 [00:07<00:00, 44.32it/s]\n",
      "100%|██████████| 322/322 [00:07<00:00, 43.69it/s]\n",
      "100%|██████████| 322/322 [00:08<00:00, 37.69it/s]\n",
      "100%|██████████| 322/322 [00:07<00:00, 42.18it/s]\n",
      "100%|██████████| 322/322 [00:07<00:00, 42.52it/s]\n",
      "100%|██████████| 322/322 [00:09<00:00, 35.47it/s]\n",
      "100%|██████████| 322/322 [00:08<00:00, 40.11it/s]\n",
      "100%|██████████| 322/322 [00:07<00:00, 43.38it/s]\n"
     ]
    }
   ],
   "source": [
    "\n",
    "plot_stats = {\n",
    "    'bleu_test': [],\n",
    "    'avg_train_loss': [],\n",
    "    'avg_test_loss': []\n",
    "}\n",
    "for epoch in range(EPOCHS):\n",
    "    dpoints = 0\n",
    "    epoch_loss = 0\n",
    "    encoder.train(), decoder.train()\n",
    "    for batch in tqdm(train_dataloader):\n",
    "        input_tensor, target_tensor = batch\n",
    "        encoder_optimizer.zero_grad()\n",
    "        decoder_optimizer.zero_grad()\n",
    "        encoder_outputs, encoder_hidden = encoder(input_tensor)\n",
    "        decoder_outputs, decoder_hidden, _ = decoder(encoder_outputs, encoder_hidden, target_tensor)\n",
    "        loss = criterion(\n",
    "            decoder_outputs.view(-1, decoder_outputs.size(-1)),\n",
    "            target_tensor.view(-1)\n",
    "        )\n",
    "        loss.backward()\n",
    "        encoder_optimizer.step()\n",
    "        decoder_optimizer.step()\n",
    "        epoch_loss +=loss.item()\n",
    "        dpoints += input_tensor.shape[0]\n",
    "    \n",
    "    bleu_dict, test_loss = translate_evaluate(input_lang, output_lang, test_ds, encoder, decoder)\n",
    "    plot_stats['bleu_test'].append(bleu_dict['bleu'])\n",
    "    plot_stats['avg_train_loss'].append(epoch_loss/dpoints)\n",
    "    plot_stats['avg_test_loss'].append(test_loss)"
   ]
  },
  {
   "attachments": {},
   "cell_type": "markdown",
   "metadata": {},
   "source": [
    "## CODE TO SPLIT DATASET\n",
    "\n",
    "```python \n",
    "import random\n",
    "with open('./dataset/eng-fra.txt', encoding='utf-8') as f:\n",
    "    arr = f.readlines()\n",
    "random.shuffle(arr) # shuffles inline\n",
    "SPLIT_PERCENT = 0.10\n",
    "\n",
    "n = len(arr)\n",
    "n_test = round(n * SPLIT_PERCENT)\n",
    "n_train = n - n_test\n",
    "train_eng_fra = arr[:n_train]\n",
    "test_eng_fra = arr[n_train:]\n",
    "with open('./dataset/eng-fra-train.txt', 'w') as f_train:\n",
    "    f_train.writelines(train_eng_fra)\n",
    "with open('./dataset/eng-fra-test.txt', 'w') as f_test:\n",
    "    f_test.writelines(test_eng_fra)\n",
    "\n",
    "```"
   ]
  },
  {
   "attachments": {},
   "cell_type": "markdown",
   "metadata": {},
   "source": [
    "## Training With Attention\n"
   ]
  },
  {
   "cell_type": "code",
   "execution_count": 9,
   "metadata": {},
   "outputs": [],
   "source": [
    "\n",
    "at_loss = []\n",
    "\n",
    "at_encoder = EncoderRNN(input_lang.n_words, hidden_size)\n",
    "at_decoder = AttnDecoderRNN(hidden_size, output_lang.n_words)\n",
    "at_encoder_optimizer = optim.Adam(at_encoder.parameters(), lr=learning_rate)\n",
    "at_decoder_optimizer = optim.Adam(at_decoder.parameters(), lr=learning_rate)\n",
    "EPOCHS = 25\n"
   ]
  },
  {
   "cell_type": "code",
   "execution_count": 10,
   "metadata": {},
   "outputs": [
    {
     "name": "stderr",
     "output_type": "stream",
     "text": [
      "100%|██████████| 322/322 [00:10<00:00, 32.10it/s]\n",
      "100%|██████████| 322/322 [00:10<00:00, 31.29it/s]\n",
      "100%|██████████| 322/322 [00:10<00:00, 30.71it/s]\n",
      "100%|██████████| 322/322 [00:10<00:00, 31.26it/s]\n",
      "100%|██████████| 322/322 [00:10<00:00, 31.54it/s]\n",
      "100%|██████████| 322/322 [00:10<00:00, 31.79it/s]\n",
      "100%|██████████| 322/322 [00:10<00:00, 31.63it/s]\n",
      "100%|██████████| 322/322 [00:10<00:00, 31.70it/s]\n",
      "100%|██████████| 322/322 [00:10<00:00, 31.95it/s]\n",
      "100%|██████████| 322/322 [00:10<00:00, 30.64it/s]\n",
      "100%|██████████| 322/322 [00:10<00:00, 30.62it/s]\n",
      "100%|██████████| 322/322 [00:10<00:00, 30.40it/s]\n",
      "100%|██████████| 322/322 [00:10<00:00, 30.20it/s]\n",
      "100%|██████████| 322/322 [00:10<00:00, 31.01it/s]\n",
      "100%|██████████| 322/322 [00:10<00:00, 31.62it/s]\n",
      "100%|██████████| 322/322 [00:10<00:00, 31.84it/s]\n",
      "100%|██████████| 322/322 [00:10<00:00, 31.91it/s]\n",
      "100%|██████████| 322/322 [00:10<00:00, 31.72it/s]\n",
      "100%|██████████| 322/322 [00:10<00:00, 31.80it/s]\n",
      "100%|██████████| 322/322 [00:10<00:00, 31.79it/s]\n",
      "100%|██████████| 322/322 [00:10<00:00, 31.82it/s]\n",
      "100%|██████████| 322/322 [00:10<00:00, 31.90it/s]\n",
      "100%|██████████| 322/322 [00:10<00:00, 31.58it/s]\n",
      "100%|██████████| 322/322 [00:11<00:00, 28.99it/s]\n",
      "100%|██████████| 322/322 [00:11<00:00, 28.53it/s]\n"
     ]
    }
   ],
   "source": [
    "a_plot_stats = {\n",
    "    'bleu_test': [],\n",
    "    'avg_train_loss': [],\n",
    "    'avg_test_loss': []\n",
    "}\n",
    "for epoch in range(EPOCHS): \n",
    "    dpoints = 0\n",
    "    epoch_loss = 0\n",
    "    at_encoder.train(), at_decoder.train()\n",
    "    for batch in tqdm(train_dataloader):\n",
    "        input_tensor, target_tensor = batch\n",
    "        at_encoder_optimizer.zero_grad()\n",
    "        at_decoder_optimizer.zero_grad()\n",
    "        encoder_outputs, encoder_hidden = at_encoder(input_tensor)\n",
    "        decoder_outputs, decoder_hidden, _ = at_decoder(encoder_outputs, encoder_hidden, target_tensor)\n",
    "        loss = criterion(\n",
    "            decoder_outputs.view(-1, decoder_outputs.size(-1)),\n",
    "            target_tensor.view(-1)\n",
    "        )\n",
    "        loss.backward()\n",
    "        at_encoder_optimizer.step()\n",
    "        at_decoder_optimizer.step()\n",
    "        epoch_loss +=loss.item()\n",
    "        dpoints += input_tensor.shape[0]\n",
    "    \n",
    "    bleu_dict, test_loss = translate_evaluate(input_lang, output_lang, test_ds, at_encoder, at_decoder)\n",
    "    a_plot_stats['bleu_test'].append(bleu_dict['bleu'])\n",
    "    a_plot_stats['avg_train_loss'].append(epoch_loss/dpoints)\n",
    "    a_plot_stats['avg_test_loss'].append(test_loss)"
   ]
  },
  {
   "cell_type": "code",
   "execution_count": 11,
   "metadata": {},
   "outputs": [
    {
     "data": {
      "application/vnd.plotly.v1+json": {
       "config": {
        "plotlyServerURL": "https://plot.ly"
       },
       "data": [
        {
         "mode": "lines",
         "name": "bleu_test",
         "type": "scatter",
         "x": [
          1,
          2,
          3,
          4,
          5,
          6,
          7,
          8,
          9,
          10,
          11,
          12,
          13,
          14,
          15,
          16,
          17,
          18,
          19,
          20,
          21,
          22,
          23,
          24,
          25
         ],
         "xaxis": "x",
         "y": [
          0.04807064921832706,
          0.1126461995507083,
          0.1325402984867363,
          0.1568700498891714,
          0.17933701229920346,
          0.19858402404162825,
          0.2138381717196005,
          0.24339725308429436,
          0.27398830452213085,
          0.27435032522690145,
          0.30658367493763783,
          0.3037677772475564,
          0.33515383332410675,
          0.33103784213777454,
          0.34278449270781824,
          0.35217353173322424,
          0.3604415022868455,
          0.36727338000245296,
          0.3649714584793688,
          0.3893842513273102,
          0.39037674735759087,
          0.38908967717244153,
          0.3910090418671047,
          0.407858193515216,
          0.41397767821202924
         ],
         "yaxis": "y"
        },
        {
         "mode": "lines",
         "name": "bleu_test",
         "type": "scatter",
         "x": [
          1,
          2,
          3,
          4,
          5,
          6,
          7,
          8,
          9,
          10,
          11,
          12,
          13,
          14,
          15,
          16,
          17,
          18,
          19,
          20,
          21,
          22,
          23,
          24,
          25
         ],
         "xaxis": "x2",
         "y": [
          0.059262781402796665,
          0.12521950232822304,
          0.16833822461196463,
          0.22922064323111654,
          0.25714395799791717,
          0.29867468708285544,
          0.3193386407927827,
          0.3585136343825594,
          0.37886338376323764,
          0.3993610086904083,
          0.41329402354066624,
          0.42926382254567724,
          0.46000946286709593,
          0.46637317864284134,
          0.48833401176419666,
          0.49254982572127987,
          0.5012429320768111,
          0.4996078743901156,
          0.5092382328661269,
          0.52048852183503,
          0.5145264350116976,
          0.5229301045032153,
          0.5226132826066313,
          0.5180152178318478,
          0.5207185520921239
         ],
         "yaxis": "y2"
        },
        {
         "mode": "lines",
         "name": "avg_train_loss",
         "type": "scatter",
         "x": [
          1,
          2,
          3,
          4,
          5,
          6,
          7,
          8,
          9,
          10,
          11,
          12,
          13,
          14,
          15,
          16,
          17,
          18,
          19,
          20,
          21,
          22,
          23,
          24,
          25
         ],
         "xaxis": "x",
         "y": [
          0.08362295819339755,
          0.05722330936508676,
          0.0487265913771433,
          0.04299258062443728,
          0.038532146716134086,
          0.03475908568011385,
          0.03155252210224207,
          0.02866077082265876,
          0.026187454977121775,
          0.023932570869978517,
          0.0219442595376424,
          0.02016829995112951,
          0.01859980757558994,
          0.017118708346936417,
          0.015780233341606748,
          0.014546357587213172,
          0.01346381641449799,
          0.012487913037649472,
          0.011597504831874439,
          0.010741049345743213,
          0.010016696566182747,
          0.009349092828106418,
          0.008699683816495786,
          0.0081257269135665,
          0.0075892217962308045
         ],
         "yaxis": "y"
        },
        {
         "mode": "lines",
         "name": "avg_train_loss",
         "type": "scatter",
         "x": [
          1,
          2,
          3,
          4,
          5,
          6,
          7,
          8,
          9,
          10,
          11,
          12,
          13,
          14,
          15,
          16,
          17,
          18,
          19,
          20,
          21,
          22,
          23,
          24,
          25
         ],
         "xaxis": "x2",
         "y": [
          0.08005112412489887,
          0.05331619802783067,
          0.044902618474143265,
          0.03888484055715626,
          0.033910143541174505,
          0.02974696215240336,
          0.026173315587980927,
          0.02308828933547585,
          0.020384973398873768,
          0.017965591786773268,
          0.015881994564014106,
          0.014020563835510192,
          0.012404633518393536,
          0.01105697096831648,
          0.009739557691414765,
          0.008678150274961546,
          0.007748899187812612,
          0.0069289459356663,
          0.006191799626715114,
          0.005594734748426746,
          0.005058853485166221,
          0.004548045055859054,
          0.0041900759342404685,
          0.003838014220966505,
          0.0035553371828463505
         ],
         "yaxis": "y2"
        },
        {
         "mode": "lines",
         "name": "avg_test_loss",
         "type": "scatter",
         "x": [
          1,
          2,
          3,
          4,
          5,
          6,
          7,
          8,
          9,
          10,
          11,
          12,
          13,
          14,
          15,
          16,
          17,
          18,
          19,
          20,
          21,
          22,
          23,
          24,
          25
         ],
         "xaxis": "x",
         "y": [
          0.18393759903932397,
          0.17033047561185904,
          0.17742975546037473,
          0.17364254445094043,
          0.17629295074590923,
          0.17261906078473221,
          0.17053063211260483,
          0.16540665470589458,
          0.1628784673759736,
          0.16334200869739157,
          0.1589600923960057,
          0.16514347055077347,
          0.15742516343236584,
          0.16008177815123803,
          0.15818962357335575,
          0.1569486199886171,
          0.1640804344323334,
          0.16230422289154,
          0.16197694086577108,
          0.16071735186544014,
          0.16360959323466132,
          0.1608917890645551,
          0.16678942234709013,
          0.16080126571573203,
          0.16396130393171066
         ],
         "yaxis": "y"
        },
        {
         "mode": "lines",
         "name": "avg_test_loss",
         "type": "scatter",
         "x": [
          1,
          2,
          3,
          4,
          5,
          6,
          7,
          8,
          9,
          10,
          11,
          12,
          13,
          14,
          15,
          16,
          17,
          18,
          19,
          20,
          21,
          22,
          23,
          24,
          25
         ],
         "xaxis": "x2",
         "y": [
          0.17582069678478932,
          0.17776172563254114,
          0.16884372956576324,
          0.1572339667100299,
          0.15588525681405388,
          0.1446875569742436,
          0.14415036093142275,
          0.13668732275856135,
          0.13311879554837172,
          0.1299886955861996,
          0.13097462309412208,
          0.12423921544457467,
          0.12416745509420123,
          0.12334645615182112,
          0.11943356726132653,
          0.12196518806500196,
          0.11807247688561011,
          0.12112756701837103,
          0.12366423113415861,
          0.12047986129680312,
          0.12389051667999688,
          0.12228741097983722,
          0.12420276746076889,
          0.123827715800264,
          0.12729739711945315
         ],
         "yaxis": "y2"
        }
       ],
       "layout": {
        "annotations": [
         {
          "font": {
           "size": 16
          },
          "showarrow": false,
          "text": "without attention",
          "x": 0.225,
          "xanchor": "center",
          "xref": "paper",
          "y": 1,
          "yanchor": "bottom",
          "yref": "paper"
         },
         {
          "font": {
           "size": 16
          },
          "showarrow": false,
          "text": "with attention",
          "x": 0.775,
          "xanchor": "center",
          "xref": "paper",
          "y": 1,
          "yanchor": "bottom",
          "yref": "paper"
         }
        ],
        "template": {
         "data": {
          "bar": [
           {
            "error_x": {
             "color": "#2a3f5f"
            },
            "error_y": {
             "color": "#2a3f5f"
            },
            "marker": {
             "line": {
              "color": "#E5ECF6",
              "width": 0.5
             },
             "pattern": {
              "fillmode": "overlay",
              "size": 10,
              "solidity": 0.2
             }
            },
            "type": "bar"
           }
          ],
          "barpolar": [
           {
            "marker": {
             "line": {
              "color": "#E5ECF6",
              "width": 0.5
             },
             "pattern": {
              "fillmode": "overlay",
              "size": 10,
              "solidity": 0.2
             }
            },
            "type": "barpolar"
           }
          ],
          "carpet": [
           {
            "aaxis": {
             "endlinecolor": "#2a3f5f",
             "gridcolor": "white",
             "linecolor": "white",
             "minorgridcolor": "white",
             "startlinecolor": "#2a3f5f"
            },
            "baxis": {
             "endlinecolor": "#2a3f5f",
             "gridcolor": "white",
             "linecolor": "white",
             "minorgridcolor": "white",
             "startlinecolor": "#2a3f5f"
            },
            "type": "carpet"
           }
          ],
          "choropleth": [
           {
            "colorbar": {
             "outlinewidth": 0,
             "ticks": ""
            },
            "type": "choropleth"
           }
          ],
          "contour": [
           {
            "colorbar": {
             "outlinewidth": 0,
             "ticks": ""
            },
            "colorscale": [
             [
              0,
              "#0d0887"
             ],
             [
              0.1111111111111111,
              "#46039f"
             ],
             [
              0.2222222222222222,
              "#7201a8"
             ],
             [
              0.3333333333333333,
              "#9c179e"
             ],
             [
              0.4444444444444444,
              "#bd3786"
             ],
             [
              0.5555555555555556,
              "#d8576b"
             ],
             [
              0.6666666666666666,
              "#ed7953"
             ],
             [
              0.7777777777777778,
              "#fb9f3a"
             ],
             [
              0.8888888888888888,
              "#fdca26"
             ],
             [
              1,
              "#f0f921"
             ]
            ],
            "type": "contour"
           }
          ],
          "contourcarpet": [
           {
            "colorbar": {
             "outlinewidth": 0,
             "ticks": ""
            },
            "type": "contourcarpet"
           }
          ],
          "heatmap": [
           {
            "colorbar": {
             "outlinewidth": 0,
             "ticks": ""
            },
            "colorscale": [
             [
              0,
              "#0d0887"
             ],
             [
              0.1111111111111111,
              "#46039f"
             ],
             [
              0.2222222222222222,
              "#7201a8"
             ],
             [
              0.3333333333333333,
              "#9c179e"
             ],
             [
              0.4444444444444444,
              "#bd3786"
             ],
             [
              0.5555555555555556,
              "#d8576b"
             ],
             [
              0.6666666666666666,
              "#ed7953"
             ],
             [
              0.7777777777777778,
              "#fb9f3a"
             ],
             [
              0.8888888888888888,
              "#fdca26"
             ],
             [
              1,
              "#f0f921"
             ]
            ],
            "type": "heatmap"
           }
          ],
          "heatmapgl": [
           {
            "colorbar": {
             "outlinewidth": 0,
             "ticks": ""
            },
            "colorscale": [
             [
              0,
              "#0d0887"
             ],
             [
              0.1111111111111111,
              "#46039f"
             ],
             [
              0.2222222222222222,
              "#7201a8"
             ],
             [
              0.3333333333333333,
              "#9c179e"
             ],
             [
              0.4444444444444444,
              "#bd3786"
             ],
             [
              0.5555555555555556,
              "#d8576b"
             ],
             [
              0.6666666666666666,
              "#ed7953"
             ],
             [
              0.7777777777777778,
              "#fb9f3a"
             ],
             [
              0.8888888888888888,
              "#fdca26"
             ],
             [
              1,
              "#f0f921"
             ]
            ],
            "type": "heatmapgl"
           }
          ],
          "histogram": [
           {
            "marker": {
             "pattern": {
              "fillmode": "overlay",
              "size": 10,
              "solidity": 0.2
             }
            },
            "type": "histogram"
           }
          ],
          "histogram2d": [
           {
            "colorbar": {
             "outlinewidth": 0,
             "ticks": ""
            },
            "colorscale": [
             [
              0,
              "#0d0887"
             ],
             [
              0.1111111111111111,
              "#46039f"
             ],
             [
              0.2222222222222222,
              "#7201a8"
             ],
             [
              0.3333333333333333,
              "#9c179e"
             ],
             [
              0.4444444444444444,
              "#bd3786"
             ],
             [
              0.5555555555555556,
              "#d8576b"
             ],
             [
              0.6666666666666666,
              "#ed7953"
             ],
             [
              0.7777777777777778,
              "#fb9f3a"
             ],
             [
              0.8888888888888888,
              "#fdca26"
             ],
             [
              1,
              "#f0f921"
             ]
            ],
            "type": "histogram2d"
           }
          ],
          "histogram2dcontour": [
           {
            "colorbar": {
             "outlinewidth": 0,
             "ticks": ""
            },
            "colorscale": [
             [
              0,
              "#0d0887"
             ],
             [
              0.1111111111111111,
              "#46039f"
             ],
             [
              0.2222222222222222,
              "#7201a8"
             ],
             [
              0.3333333333333333,
              "#9c179e"
             ],
             [
              0.4444444444444444,
              "#bd3786"
             ],
             [
              0.5555555555555556,
              "#d8576b"
             ],
             [
              0.6666666666666666,
              "#ed7953"
             ],
             [
              0.7777777777777778,
              "#fb9f3a"
             ],
             [
              0.8888888888888888,
              "#fdca26"
             ],
             [
              1,
              "#f0f921"
             ]
            ],
            "type": "histogram2dcontour"
           }
          ],
          "mesh3d": [
           {
            "colorbar": {
             "outlinewidth": 0,
             "ticks": ""
            },
            "type": "mesh3d"
           }
          ],
          "parcoords": [
           {
            "line": {
             "colorbar": {
              "outlinewidth": 0,
              "ticks": ""
             }
            },
            "type": "parcoords"
           }
          ],
          "pie": [
           {
            "automargin": true,
            "type": "pie"
           }
          ],
          "scatter": [
           {
            "fillpattern": {
             "fillmode": "overlay",
             "size": 10,
             "solidity": 0.2
            },
            "type": "scatter"
           }
          ],
          "scatter3d": [
           {
            "line": {
             "colorbar": {
              "outlinewidth": 0,
              "ticks": ""
             }
            },
            "marker": {
             "colorbar": {
              "outlinewidth": 0,
              "ticks": ""
             }
            },
            "type": "scatter3d"
           }
          ],
          "scattercarpet": [
           {
            "marker": {
             "colorbar": {
              "outlinewidth": 0,
              "ticks": ""
             }
            },
            "type": "scattercarpet"
           }
          ],
          "scattergeo": [
           {
            "marker": {
             "colorbar": {
              "outlinewidth": 0,
              "ticks": ""
             }
            },
            "type": "scattergeo"
           }
          ],
          "scattergl": [
           {
            "marker": {
             "colorbar": {
              "outlinewidth": 0,
              "ticks": ""
             }
            },
            "type": "scattergl"
           }
          ],
          "scattermapbox": [
           {
            "marker": {
             "colorbar": {
              "outlinewidth": 0,
              "ticks": ""
             }
            },
            "type": "scattermapbox"
           }
          ],
          "scatterpolar": [
           {
            "marker": {
             "colorbar": {
              "outlinewidth": 0,
              "ticks": ""
             }
            },
            "type": "scatterpolar"
           }
          ],
          "scatterpolargl": [
           {
            "marker": {
             "colorbar": {
              "outlinewidth": 0,
              "ticks": ""
             }
            },
            "type": "scatterpolargl"
           }
          ],
          "scatterternary": [
           {
            "marker": {
             "colorbar": {
              "outlinewidth": 0,
              "ticks": ""
             }
            },
            "type": "scatterternary"
           }
          ],
          "surface": [
           {
            "colorbar": {
             "outlinewidth": 0,
             "ticks": ""
            },
            "colorscale": [
             [
              0,
              "#0d0887"
             ],
             [
              0.1111111111111111,
              "#46039f"
             ],
             [
              0.2222222222222222,
              "#7201a8"
             ],
             [
              0.3333333333333333,
              "#9c179e"
             ],
             [
              0.4444444444444444,
              "#bd3786"
             ],
             [
              0.5555555555555556,
              "#d8576b"
             ],
             [
              0.6666666666666666,
              "#ed7953"
             ],
             [
              0.7777777777777778,
              "#fb9f3a"
             ],
             [
              0.8888888888888888,
              "#fdca26"
             ],
             [
              1,
              "#f0f921"
             ]
            ],
            "type": "surface"
           }
          ],
          "table": [
           {
            "cells": {
             "fill": {
              "color": "#EBF0F8"
             },
             "line": {
              "color": "white"
             }
            },
            "header": {
             "fill": {
              "color": "#C8D4E3"
             },
             "line": {
              "color": "white"
             }
            },
            "type": "table"
           }
          ]
         },
         "layout": {
          "annotationdefaults": {
           "arrowcolor": "#2a3f5f",
           "arrowhead": 0,
           "arrowwidth": 1
          },
          "autotypenumbers": "strict",
          "coloraxis": {
           "colorbar": {
            "outlinewidth": 0,
            "ticks": ""
           }
          },
          "colorscale": {
           "diverging": [
            [
             0,
             "#8e0152"
            ],
            [
             0.1,
             "#c51b7d"
            ],
            [
             0.2,
             "#de77ae"
            ],
            [
             0.3,
             "#f1b6da"
            ],
            [
             0.4,
             "#fde0ef"
            ],
            [
             0.5,
             "#f7f7f7"
            ],
            [
             0.6,
             "#e6f5d0"
            ],
            [
             0.7,
             "#b8e186"
            ],
            [
             0.8,
             "#7fbc41"
            ],
            [
             0.9,
             "#4d9221"
            ],
            [
             1,
             "#276419"
            ]
           ],
           "sequential": [
            [
             0,
             "#0d0887"
            ],
            [
             0.1111111111111111,
             "#46039f"
            ],
            [
             0.2222222222222222,
             "#7201a8"
            ],
            [
             0.3333333333333333,
             "#9c179e"
            ],
            [
             0.4444444444444444,
             "#bd3786"
            ],
            [
             0.5555555555555556,
             "#d8576b"
            ],
            [
             0.6666666666666666,
             "#ed7953"
            ],
            [
             0.7777777777777778,
             "#fb9f3a"
            ],
            [
             0.8888888888888888,
             "#fdca26"
            ],
            [
             1,
             "#f0f921"
            ]
           ],
           "sequentialminus": [
            [
             0,
             "#0d0887"
            ],
            [
             0.1111111111111111,
             "#46039f"
            ],
            [
             0.2222222222222222,
             "#7201a8"
            ],
            [
             0.3333333333333333,
             "#9c179e"
            ],
            [
             0.4444444444444444,
             "#bd3786"
            ],
            [
             0.5555555555555556,
             "#d8576b"
            ],
            [
             0.6666666666666666,
             "#ed7953"
            ],
            [
             0.7777777777777778,
             "#fb9f3a"
            ],
            [
             0.8888888888888888,
             "#fdca26"
            ],
            [
             1,
             "#f0f921"
            ]
           ]
          },
          "colorway": [
           "#636efa",
           "#EF553B",
           "#00cc96",
           "#ab63fa",
           "#FFA15A",
           "#19d3f3",
           "#FF6692",
           "#B6E880",
           "#FF97FF",
           "#FECB52"
          ],
          "font": {
           "color": "#2a3f5f"
          },
          "geo": {
           "bgcolor": "white",
           "lakecolor": "white",
           "landcolor": "#E5ECF6",
           "showlakes": true,
           "showland": true,
           "subunitcolor": "white"
          },
          "hoverlabel": {
           "align": "left"
          },
          "hovermode": "closest",
          "mapbox": {
           "style": "light"
          },
          "paper_bgcolor": "white",
          "plot_bgcolor": "#E5ECF6",
          "polar": {
           "angularaxis": {
            "gridcolor": "white",
            "linecolor": "white",
            "ticks": ""
           },
           "bgcolor": "#E5ECF6",
           "radialaxis": {
            "gridcolor": "white",
            "linecolor": "white",
            "ticks": ""
           }
          },
          "scene": {
           "xaxis": {
            "backgroundcolor": "#E5ECF6",
            "gridcolor": "white",
            "gridwidth": 2,
            "linecolor": "white",
            "showbackground": true,
            "ticks": "",
            "zerolinecolor": "white"
           },
           "yaxis": {
            "backgroundcolor": "#E5ECF6",
            "gridcolor": "white",
            "gridwidth": 2,
            "linecolor": "white",
            "showbackground": true,
            "ticks": "",
            "zerolinecolor": "white"
           },
           "zaxis": {
            "backgroundcolor": "#E5ECF6",
            "gridcolor": "white",
            "gridwidth": 2,
            "linecolor": "white",
            "showbackground": true,
            "ticks": "",
            "zerolinecolor": "white"
           }
          },
          "shapedefaults": {
           "line": {
            "color": "#2a3f5f"
           }
          },
          "ternary": {
           "aaxis": {
            "gridcolor": "white",
            "linecolor": "white",
            "ticks": ""
           },
           "baxis": {
            "gridcolor": "white",
            "linecolor": "white",
            "ticks": ""
           },
           "bgcolor": "#E5ECF6",
           "caxis": {
            "gridcolor": "white",
            "linecolor": "white",
            "ticks": ""
           }
          },
          "title": {
           "x": 0.05
          },
          "xaxis": {
           "automargin": true,
           "gridcolor": "white",
           "linecolor": "white",
           "ticks": "",
           "title": {
            "standoff": 15
           },
           "zerolinecolor": "white",
           "zerolinewidth": 2
          },
          "yaxis": {
           "automargin": true,
           "gridcolor": "white",
           "linecolor": "white",
           "ticks": "",
           "title": {
            "standoff": 15
           },
           "zerolinecolor": "white",
           "zerolinewidth": 2
          }
         }
        },
        "title": {
         "text": "Losses and Bleu (W/ Attention)"
        },
        "xaxis": {
         "anchor": "y",
         "domain": [
          0,
          0.45
         ]
        },
        "xaxis2": {
         "anchor": "y2",
         "domain": [
          0.55,
          1
         ]
        },
        "yaxis": {
         "anchor": "x",
         "domain": [
          0,
          1
         ]
        },
        "yaxis2": {
         "anchor": "x2",
         "domain": [
          0,
          1
         ],
         "matches": "y",
         "showticklabels": false
        }
       }
      }
     },
     "metadata": {},
     "output_type": "display_data"
    }
   ],
   "source": [
    "from plotly.subplots import make_subplots\n",
    "\n",
    "epochs = list(range(1, len(plot_stats['avg_train_loss'])+1))\n",
    "\n",
    "fig = make_subplots(rows=1, cols=2, shared_yaxes=True, column_titles=[\"without attention\", \"with attention\"])\n",
    "\n",
    "\n",
    "for ks in plot_stats.keys():\n",
    "    \n",
    "    y_val = plot_stats[ks]\n",
    "    y_name = ks\n",
    "    y_val_a = a_plot_stats[ks]\n",
    "    y_name_a = ks \n",
    "\n",
    "    fig.add_trace(go.Scatter(x=epochs, y=y_val,\n",
    "                    mode='lines',\n",
    "                    name=y_name), row=1, col=1)\n",
    "    \n",
    "    fig.add_trace(go.Scatter(x=epochs, y=y_val_a,\n",
    "                    mode='lines',\n",
    "                    name=y_name_a), row=1, col=2)\n",
    "    \n",
    "fig.layout['title'] = 'Losses and Bleu (W/ Attention)'\n",
    "\n",
    "fig.show()"
   ]
  }
 ],
 "metadata": {
  "kernelspec": {
   "display_name": "torch_learn",
   "language": "python",
   "name": "python3"
  },
  "language_info": {
   "codemirror_mode": {
    "name": "ipython",
    "version": 3
   },
   "file_extension": ".py",
   "mimetype": "text/x-python",
   "name": "python",
   "nbconvert_exporter": "python",
   "pygments_lexer": "ipython3",
   "version": "3.10.4"
  },
  "orig_nbformat": 4
 },
 "nbformat": 4,
 "nbformat_minor": 2
}
