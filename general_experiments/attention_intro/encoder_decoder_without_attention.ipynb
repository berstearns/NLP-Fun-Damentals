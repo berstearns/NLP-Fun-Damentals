{
 "cells": [
  {
   "cell_type": "code",
   "execution_count": 44,
   "metadata": {},
   "outputs": [],
   "source": [
    "import unicodedata\n",
    "import re\n",
    "import random\n",
    "\n",
    "import torch\n",
    "import torch.nn as nn\n",
    "from torch import optim\n",
    "import torch.nn.functional as F\n",
    "\n",
    "import numpy as np\n",
    "from torch.utils.data import TensorDataset, DataLoader, RandomSampler\n",
    "from data_processing import prepareData, readLangs, normalizeString, filter_pair\n",
    "from tqdm import tqdm\n",
    "import evaluate\n",
    "\n",
    "bleu_calc = evaluate.load('evaluate-metric/bleu')\n",
    "\n",
    "TRAIN_DATASET_PATH = \"./dataset/eng-fra-train.txt\"\n",
    "TEST_DATASET_PATH = \"./dataset/eng-fra-test.txt\"\n"
   ]
  },
  {
   "cell_type": "code",
   "execution_count": 2,
   "metadata": {},
   "outputs": [],
   "source": [
    "MAXLEN = 10\n",
    "eng, fre, pairs = prepareData(TRAIN_DATASET_PATH, MAXLEN)\n",
    "\n",
    "SOS_TOKEN = 0\n",
    "EOS_TOKEN = 1\n",
    "\n",
    "## FRENCH - TO - ENGLISH"
   ]
  },
  {
   "cell_type": "code",
   "execution_count": 3,
   "metadata": {},
   "outputs": [],
   "source": [
    "# text vector in hidden layers out\n",
    "class EncoderRNN(nn.Module):\n",
    "    def __init__(self, input_size, hidden_size, dropout_p=0.1) -> None:\n",
    "        super(EncoderRNN, self).__init__()\n",
    "        self.hidden_size = hidden_size\n",
    "        self.embedding = nn.Embedding(input_size, hidden_size)\n",
    "        self.gru = nn.GRU(hidden_size, hidden_size, batch_first=True)\n",
    "        self.dropout = nn.Dropout(p=dropout_p)\n",
    "\n",
    "    def forward(self, inputx):\n",
    "        # print('input shape', inputx.shape)\n",
    "        embedded = self.dropout(self.embedding(inputx))\n",
    "        # print('embedding shape', embedded.shape)\n",
    "        output, hidden = self.gru(embedded)\n",
    "        # print('gru output hidden', output.shape, hidden.shape)\n",
    "        return output, hidden"
   ]
  },
  {
   "cell_type": "code",
   "execution_count": 4,
   "metadata": {},
   "outputs": [],
   "source": [
    "class DecoderRNN(nn.Module):\n",
    "    def __init__(self, hidden_size, output_size) -> None:\n",
    "        super(DecoderRNN, self).__init__()\n",
    "        # print(f'hidden_size: {hidden_size}, output_size:{output_size}')\n",
    "        self.embedding = nn.Embedding(output_size, hidden_size)\n",
    "        self.gru = nn.GRU(hidden_size, hidden_size, batch_first=True)\n",
    "        self.out = nn.Linear(hidden_size, output_size)\n",
    "\n",
    "    def forward(self, encoder_outputs, encoder_hidden, target_tensor=None):\n",
    "        batch_size = encoder_outputs.size(0)\n",
    "        decoder_input = torch.empty(batch_size, 1, dtype=torch.long).fill_(SOS_TOKEN)\n",
    "        # print(f'decoder input: {decoder_input.shape}')\n",
    "        decoder_hidden = encoder_hidden\n",
    "        decoder_outputs = []\n",
    "\n",
    "        for i in range(MAXLEN):\n",
    "            # print(f'decoder HIDDED:{decoder_output.shape} , ')\n",
    "            decoder_output, decoder_hidden = self.forward_step(decoder_input, decoder_hidden)\n",
    "            # print(f'decoder output shape: {decoder_output.shape}')\n",
    "            decoder_outputs.append(decoder_output)\n",
    "\n",
    "            if target_tensor is not None:\n",
    "                decoder_input = target_tensor[:, i].unsqueeze(1)\n",
    "            \n",
    "            else:\n",
    "                _, topi = decoder_output.topk(1)\n",
    "                decoder_input = topi.squeeze(-1).detach()\n",
    "        \n",
    "        decoder_outputs = torch.cat(decoder_outputs, dim=1)\n",
    "        decoder_outputs = F.log_softmax(decoder_outputs, dim=-1)\n",
    "        return decoder_outputs, decoder_hidden, None\n",
    "\n",
    "\n",
    "    def forward_step(self, inputs, hidden):\n",
    "        output = self.embedding(inputs)\n",
    "        output = F.relu(output)\n",
    "        # print(f'output{output.shape}, hidden: {hidden.shape}')\n",
    "        output, hidden = self.gru(output, hidden)\n",
    "        output = self.out(output)\n",
    "        return output, hidden"
   ]
  },
  {
   "cell_type": "code",
   "execution_count": 5,
   "metadata": {},
   "outputs": [],
   "source": [
    "def indexesFromSentence(lang, sentence):\n",
    "    return [lang.word2idx[word] for word in sentence.split(' ')]\n",
    "\n",
    "def tensorFromSentence(lang, sentence):\n",
    "    indexes = [lang.word2idx[word] for word in sentence.split(' ')]\n",
    "    sent_idx = torch.tensor(indexes, dtype=torch.long).view(1, -1)\n",
    "    return sent_idx\n",
    "\n",
    "\n",
    "def tensorsFromPair(pair, input_lang, output_lang):\n",
    "    input_tensor = tensorFromSentence(input_lang, pair[0])\n",
    "    output_tensor = tensorFromSentence(output_lang, pair[1])\n",
    "    return input_tensor, output_tensor\n",
    "\n",
    "def get_dataloader(batch_size, path=TRAIN_DATASET_PATH):\n",
    "    fre, eng, pairs = prepareData(path, MAXLEN)\n",
    "    n = len(pairs)  \n",
    "    input_ids = np.zeros((n, MAXLEN), dtype=np.int32)\n",
    "    target_ids = np.zeros((n, MAXLEN), dtype=np.int32)\n",
    "    \n",
    "    for idx, (inp, tgt) in enumerate(pairs):\n",
    "        inp_ids = indexesFromSentence(fre, inp)\n",
    "        tgt_ids = indexesFromSentence(eng, tgt)\n",
    "        inp_ids.append(EOS_TOKEN)\n",
    "        tgt_ids.append(EOS_TOKEN)\n",
    "        input_ids[idx, :len(inp_ids)] = inp_ids\n",
    "        target_ids[idx, :len(tgt_ids)] = tgt_ids\n",
    "\n",
    "    train_data = TensorDataset(torch.LongTensor(input_ids),\n",
    "                               torch.LongTensor(target_ids))\n",
    "    train_sampler = RandomSampler(train_data)\n",
    "    train_dataloader = DataLoader(train_data, sampler=train_sampler, batch_size=batch_size)\n",
    "    return fre, eng, train_dataloader, train_data"
   ]
  },
  {
   "cell_type": "code",
   "execution_count": 6,
   "metadata": {},
   "outputs": [],
   "source": [
    "# fre, eng, pairs = prepareData(TRAIN_DATASET_PATH, MAXLEN)\n",
    "# n = len(pairs)  \n",
    "# input_ids = np.zeros((n, MAXLEN), dtype=np.int32)\n",
    "# target_ids = np.zeros((n, MAXLEN), dtype=np.int32)\n",
    "\n",
    "# for idx, (inp, tgt) in enumerate(pairs):\n",
    "#     if idx == 100:\n",
    "#         break\n",
    "#     inp_ids = indexesFromSentence(fre, inp)\n",
    "#     tgt_ids = indexesFromSentence(eng, tgt)\n",
    "#     inp_ids.append(EOS_TOKEN)\n",
    "#     tgt_ids.append(EOS_TOKEN)\n",
    "#     input_ids[idx, :len(inp_ids)] = inp_ids\n",
    "#     target_ids[idx, :len(tgt_ids)] = tgt_ids\n",
    "\n"
   ]
  },
  {
   "cell_type": "code",
   "execution_count": 7,
   "metadata": {},
   "outputs": [],
   "source": [
    "input_lang, output_lang, train_dataloader, train_dset = get_dataloader(32)\n",
    "loss = []\n",
    "hidden_size = 128\n",
    "learning_rate = 0.001\n",
    "encoder = EncoderRNN(input_lang.n_words, hidden_size)\n",
    "decoder = DecoderRNN(hidden_size, output_lang.n_words)\n",
    "encoder_optimizer = optim.Adam(encoder.parameters(), lr=learning_rate)\n",
    "decoder_optimizer = optim.Adam(decoder.parameters(), lr=learning_rate)\n",
    "criterion = nn.NLLLoss() \n",
    "EPOCHS = 40"
   ]
  },
  {
   "cell_type": "code",
   "execution_count": null,
   "metadata": {},
   "outputs": [],
   "source": [
    "for epoch in range(EPOCHS):\n",
    "    epoch_loss = 0\n",
    "    \n",
    "    for batch in tqdm(train_dataloader):\n",
    "        input_tensor, target_tensor = batch\n",
    "        encoder_optimizer.zero_grad()\n",
    "        decoder_optimizer.zero_grad()\n",
    "        encoder_outputs, encoder_hidden = encoder(input_tensor)\n",
    "        decoder_outputs, decoder_hidden, _ = decoder(encoder_outputs, encoder_hidden, target_tensor)\n",
    "        loss = criterion(\n",
    "            decoder_outputs.view(-1, decoder_outputs.size(-1)),\n",
    "            target_tensor.view(-1)\n",
    "        )\n",
    "        loss.backward()\n",
    "        encoder_optimizer.step()\n",
    "        decoder_optimizer.step()\n",
    "        epoch_loss +=loss.item()\n",
    "    print(epoch, epoch_loss)"
   ]
  },
  {
   "attachments": {},
   "cell_type": "markdown",
   "metadata": {},
   "source": [
    "## CODE TO SPLIT DATASET\n",
    "\n",
    "```python \n",
    "import random\n",
    "with open('./dataset/eng-fra.txt', encoding='utf-8') as f:\n",
    "    arr = f.readlines()\n",
    "random.shuffle(arr) # shuffles inline\n",
    "SPLIT_PERCENT = 0.10\n",
    "\n",
    "n = len(arr)\n",
    "n_test = round(n * SPLIT_PERCENT)\n",
    "n_train = n - n_test\n",
    "train_eng_fra = arr[:n_train]\n",
    "test_eng_fra = arr[n_train:]\n",
    "with open('./dataset/eng-fra-train.txt', 'w') as f_train:\n",
    "    f_train.writelines(train_eng_fra)\n",
    "with open('./dataset/eng-fra-test.txt', 'w') as f_test:\n",
    "    f_test.writelines(test_eng_fra)\n",
    "\n",
    "```"
   ]
  },
  {
   "cell_type": "code",
   "execution_count": 26,
   "metadata": {},
   "outputs": [],
   "source": [
    "true_labs = [\" \".join([output_lang.idx2word[word.item()] for word in output_t if word not in [0,1]]) for output_t in  target_tensor]\n",
    "dec_outputs = decoder_outputs.argmax(dim=-1)\n",
    "pred_labs = [\" \".join([output_lang.idx2word[word.item()] for word in dec_t if word not in [0,1]]) for dec_t in dec_outputs]\n"
   ]
  },
  {
   "cell_type": "code",
   "execution_count": null,
   "metadata": {},
   "outputs": [],
   "source": [
    "\n",
    "# target_tensor\n",
    "bleu_calc.compute(predictions=pred_labs, references=true_labs)"
   ]
  },
  {
   "cell_type": "code",
   "execution_count": 56,
   "metadata": {},
   "outputs": [],
   "source": [
    "test_ds = []\n",
    "with open(TEST_DATASET_PATH) as f:\n",
    "    for line in f:\n",
    "        engtext, fretext = line.split('\\t')\n",
    "        test_ds.append([normalizeString(fretext), normalizeString(engtext)])\n",
    "    filt_test = [pair for pair in test_ds if filter_pair(pair, MAXLEN)]    "
   ]
  },
  {
   "cell_type": "code",
   "execution_count": 93,
   "metadata": {},
   "outputs": [],
   "source": [
    "def translate_evaluate(inputlang, outputlang, dataset, encoder:nn.Module, decoder:nn.Module):\n",
    "    inp_arr = list(map(lambda x: x[0], dataset))\n",
    "    references = list(map(lambda x: x[1], dataset))\n",
    "    all_preds = []\n",
    "    n = len(inp_arr)  \n",
    "    input_ids = np.zeros((n, MAXLEN), dtype=np.int32)\n",
    "\n",
    "    for idx, sent in enumerate(inp_arr):\n",
    "        sent = sent.split(' ')\n",
    "        enc_arr = [inputlang.word2idx.get(word, 2) for word in sent] + [EOS_TOKEN]\n",
    "        input_ids[idx, :len(enc_arr)] = enc_arr\n",
    "\n",
    "    test_dset = TensorDataset(torch.LongTensor(input_ids))\n",
    "    dloader = DataLoader(test_dset, shuffle=False, batch_size=16)\n",
    "    \n",
    "    encoder.eval(), decoder.eval()\n",
    "    with torch.no_grad():\n",
    "        for batch in dloader:\n",
    "            X = batch[0]\n",
    "            encoder_outputs, encoder_hidden = encoder(X)\n",
    "            decoder_outputs, decoder_hidden, _ = decoder(encoder_outputs, encoder_hidden)\n",
    "            pred_vals = decoder_outputs.argmax(dim=-1)\n",
    "            pred_labs = [\" \".join([outputlang.idx2word[word.item()] for word in dec_t if word not in [0,1]]) for dec_t in pred_vals]\n",
    "            all_preds+=pred_labs\n",
    "    return bleu_calc.compute(predictions=all_preds, references=references)\n",
    "\n",
    "tval = translate_evaluate(input_lang, output_lang, filt_test, encoder=encoder, decoder=decoder)"
   ]
  },
  {
   "cell_type": "code",
   "execution_count": 94,
   "metadata": {},
   "outputs": [
    {
     "data": {
      "text/plain": [
       "{'bleu': 0.4430239543507979,\n",
       " 'precisions': [0.6426105540029591,\n",
       "  0.4982727087990246,\n",
       "  0.39106145251396646,\n",
       "  0.32383519445514053],\n",
       " 'brevity_penalty': 0.9872592391214804,\n",
       " 'length_ratio': 0.9873397175783152,\n",
       " 'translation_length': 6083,\n",
       " 'reference_length': 6161}"
      ]
     },
     "execution_count": 94,
     "metadata": {},
     "output_type": "execute_result"
    }
   ],
   "source": [
    "tval"
   ]
  },
  {
   "cell_type": "code",
   "execution_count": null,
   "metadata": {},
   "outputs": [],
   "source": []
  }
 ],
 "metadata": {
  "kernelspec": {
   "display_name": "torch_learn",
   "language": "python",
   "name": "python3"
  },
  "language_info": {
   "codemirror_mode": {
    "name": "ipython",
    "version": 3
   },
   "file_extension": ".py",
   "mimetype": "text/x-python",
   "name": "python",
   "nbconvert_exporter": "python",
   "pygments_lexer": "ipython3",
   "version": "3.10.4"
  },
  "orig_nbformat": 4
 },
 "nbformat": 4,
 "nbformat_minor": 2
}
