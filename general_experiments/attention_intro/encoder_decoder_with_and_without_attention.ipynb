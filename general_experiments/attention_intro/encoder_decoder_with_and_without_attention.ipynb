{
 "cells": [
  {
   "cell_type": "code",
   "execution_count": 1,
   "metadata": {},
   "outputs": [],
   "source": [
    "import unicodedata\n",
    "import re\n",
    "import random\n",
    "\n",
    "import torch\n",
    "import torch.nn as nn\n",
    "from torch import optim\n",
    "import torch.nn.functional as F\n",
    "\n",
    "import numpy as np\n",
    "from torch.utils.data import TensorDataset, DataLoader, RandomSampler\n",
    "from data_processing import prepareData, readLangs, normalizeString, filter_pair, translate_evaluate\n",
    "from tqdm import tqdm\n",
    "\n",
    "\n",
    "TRAIN_DATASET_PATH = \"./dataset/eng-fra-train.txt\"\n",
    "TEST_DATASET_PATH = \"./dataset/eng-fra-test.txt\"\n"
   ]
  },
  {
   "cell_type": "code",
   "execution_count": 2,
   "metadata": {},
   "outputs": [],
   "source": [
    "MAXLEN = 10\n",
    "eng, fre, pairs = prepareData(TRAIN_DATASET_PATH, MAXLEN)\n",
    "\n",
    "SOS_TOKEN = 0\n",
    "EOS_TOKEN = 1\n",
    "\n",
    "## FRENCH - TO - ENGLISH"
   ]
  },
  {
   "cell_type": "code",
   "execution_count": 3,
   "metadata": {},
   "outputs": [],
   "source": [
    "# text vector in hidden layers out\n",
    "class EncoderRNN(nn.Module):\n",
    "    def __init__(self, input_size, hidden_size, dropout_p=0.1) -> None:\n",
    "        super(EncoderRNN, self).__init__()\n",
    "        self.hidden_size = hidden_size\n",
    "        self.embedding = nn.Embedding(input_size, hidden_size)\n",
    "        self.gru = nn.GRU(hidden_size, hidden_size, batch_first=True)\n",
    "        self.dropout = nn.Dropout(p=dropout_p)\n",
    "\n",
    "    def forward(self, inputx):\n",
    "        # print('input shape', inputx.shape)\n",
    "        embedded = self.dropout(self.embedding(inputx))\n",
    "        # print('embedding shape', embedded.shape)\n",
    "        output, hidden = self.gru(embedded)\n",
    "        # print('gru output hidden', output.shape, hidden.shape)\n",
    "        return output, hidden"
   ]
  },
  {
   "cell_type": "code",
   "execution_count": 4,
   "metadata": {},
   "outputs": [],
   "source": [
    "class DecoderRNN(nn.Module):\n",
    "    def __init__(self, hidden_size, output_size) -> None:\n",
    "        super(DecoderRNN, self).__init__()\n",
    "        # print(f'hidden_size: {hidden_size}, output_size:{output_size}')\n",
    "        self.embedding = nn.Embedding(output_size, hidden_size)\n",
    "        self.gru = nn.GRU(hidden_size, hidden_size, batch_first=True)\n",
    "        self.out = nn.Linear(hidden_size, output_size)\n",
    "\n",
    "    def forward(self, encoder_outputs, encoder_hidden, target_tensor=None):\n",
    "        batch_size = encoder_outputs.size(0)\n",
    "        decoder_input = torch.empty(batch_size, 1, dtype=torch.long).fill_(SOS_TOKEN)\n",
    "        # print(f'decoder input: {decoder_input.shape}')\n",
    "        decoder_hidden = encoder_hidden\n",
    "        decoder_outputs = []\n",
    "\n",
    "        for i in range(MAXLEN):\n",
    "            # print(f'decoder HIDDED:{decoder_output.shape} , ')\n",
    "            decoder_output, decoder_hidden = self.forward_step(decoder_input, decoder_hidden)\n",
    "            # print(f'decoder output shape: {decoder_output.shape}')\n",
    "            decoder_outputs.append(decoder_output)\n",
    "\n",
    "            if target_tensor is not None:\n",
    "                decoder_input = target_tensor[:, i].unsqueeze(1)\n",
    "            \n",
    "            else:\n",
    "                _, topi = decoder_output.topk(1)\n",
    "                decoder_input = topi.squeeze(-1).detach()\n",
    "        \n",
    "        decoder_outputs = torch.cat(decoder_outputs, dim=1)\n",
    "        decoder_outputs = F.log_softmax(decoder_outputs, dim=-1)\n",
    "        return decoder_outputs, decoder_hidden, None\n",
    "\n",
    "\n",
    "    def forward_step(self, inputs, hidden):\n",
    "        output = self.embedding(inputs)\n",
    "        output = F.relu(output)\n",
    "        # print(f'output{output.shape}, hidden: {hidden.shape}')\n",
    "        output, hidden = self.gru(output, hidden)\n",
    "        output = self.out(output)\n",
    "        return output, hidden"
   ]
  },
  {
   "cell_type": "code",
   "execution_count": 5,
   "metadata": {},
   "outputs": [],
   "source": [
    "class BahdanauAttention(nn.Module):\n",
    "    def __init__(self, hidden_size) -> None:\n",
    "        super(BahdanauAttention, self).__init__()\n",
    "        self.Wa = nn.Linear(hidden_size, hidden_size) # has parameters for query (hidden state)\n",
    "        self.Ua = nn.Linear(hidden_size, hidden_size) # has parameters for key (encoder hidden state)\n",
    "        self.Va = nn.Linear(hidden_size, 1) \n",
    "    \n",
    "    def forward(self, query, keys):\n",
    "        print(f'key: {query.shape}, query: {keys.shape}')\n",
    "        scores = self.Va(torch.tanh(self.Wa(query) + self.Ua(keys)))\n",
    "        print(f'Score 1: {scores.shape}')\n",
    "        scores = scores.squeeze(2).unsqueeze(1)\n",
    "        print(f'Score 2: {scores.shape}')\n",
    "        weights = F.softmax(scores, dim=-1) # To produce predictive distribution\n",
    "        context = torch.bmm(weights, keys)\n",
    "        print(f'context: {scores.shape}, weights: {weights.shape}')\n",
    "        return context, weights\n",
    "\n",
    "class AttnDecoderRNN(nn.Module):\n",
    "\n",
    "    def __init__(self, hidden_size, output_size, dropout_p=0.1) -> None:\n",
    "        super(AttnDecoderRNN, self).__init__()\n",
    "        self.embedding = nn.Embedding(output_size, hidden_size)\n",
    "        self.attention = BahdanauAttention(hidden_size)\n",
    "        self.gru = nn.GRU(2*hidden_size, hidden_size, batch_first=True)\n",
    "        self.out = nn.Linear(hidden_size, output_size)\n",
    "        self.dropout = nn.Dropout(dropout_p)\n",
    "\n",
    "    def forward_step(self, input_x, hidden, encoder_outputs):\n",
    "        embedded = self.dropout(self.embedding(input_x))\n",
    "        query = hidden.permute(1, 0, 2)\n",
    "        context, att_weight = self.attention(query, encoder_outputs)\n",
    "        input_gru = torch.cat((embedded, context), dim=2)\n",
    "        output, hidden = self.gru(input_gru, hidden)\n",
    "        output = self.out(output)\n",
    "        return output, hidden, att_weight\n",
    "\n",
    "\n",
    "    def forward(self, encoder_outputs, encoder_hidden, target_tensor=None):\n",
    "        batch_size = encoder_outputs.size(0)\n",
    "        decoder_input = torch.empty(batch_size, 1, dtype=torch.long).fill_(SOS_TOKEN)\n",
    "        decoder_hidden = encoder_hidden\n",
    "        decoder_outputs = []\n",
    "        attentions = []\n",
    "\n",
    "        for i in range(MAXLEN)        :\n",
    "            decoder_output, decoder_hidden, attn_weights = self.forward_step(decoder_input, decoder_hidden, encoder_outputs)\n",
    "            decoder_outputs.append(decoder_output)\n",
    "            attentions.append(attn_weights)\n",
    "            if target_tensor is not None:\n",
    "                # Teacher forcing: Feed the target as the next input\n",
    "                decoder_input = target_tensor[:, i].unsqueeze(1) # Teacher forcing\n",
    "            else:\n",
    "                # Without teacher forcing: use its own predictions as the next input\n",
    "                _, topi = decoder_output.topk(1)\n",
    "                decoder_input = topi.squeeze(-1).detach()  # detach from history as input\n",
    "        \n",
    "        decoder_outputs = torch.cat(decoder_outputs, dim=1)\n",
    "        decoder_outputs = F.log_softmax(decoder_outputs, dim=-1)\n",
    "        attentions = torch.cat(attentions, dim=1)\n",
    "        return decoder_outputs, decoder_hidden, attentions\n",
    "\n",
    "\n"
   ]
  },
  {
   "cell_type": "code",
   "execution_count": 6,
   "metadata": {},
   "outputs": [],
   "source": [
    "def indexesFromSentence(lang, sentence):\n",
    "    return [lang.word2idx[word] for word in sentence.split(' ')]\n",
    "\n",
    "def tensorFromSentence(lang, sentence):\n",
    "    indexes = [lang.word2idx[word] for word in sentence.split(' ')]\n",
    "    sent_idx = torch.tensor(indexes, dtype=torch.long).view(1, -1)\n",
    "    return sent_idx\n",
    "\n",
    "\n",
    "def tensorsFromPair(pair, input_lang, output_lang):\n",
    "    input_tensor = tensorFromSentence(input_lang, pair[0])\n",
    "    output_tensor = tensorFromSentence(output_lang, pair[1])\n",
    "    return input_tensor, output_tensor\n",
    "\n",
    "def get_dataloader(batch_size, path=TRAIN_DATASET_PATH):\n",
    "    fre, eng, pairs = prepareData(path, MAXLEN)\n",
    "    n = len(pairs)  \n",
    "    input_ids = np.zeros((n, MAXLEN), dtype=np.int32)\n",
    "    target_ids = np.zeros((n, MAXLEN), dtype=np.int32)\n",
    "    \n",
    "    for idx, (inp, tgt) in enumerate(pairs):\n",
    "        inp_ids = indexesFromSentence(fre, inp)\n",
    "        tgt_ids = indexesFromSentence(eng, tgt)\n",
    "        inp_ids.append(EOS_TOKEN)\n",
    "        tgt_ids.append(EOS_TOKEN)\n",
    "        input_ids[idx, :len(inp_ids)] = inp_ids\n",
    "        target_ids[idx, :len(tgt_ids)] = tgt_ids\n",
    "\n",
    "    train_data = TensorDataset(torch.LongTensor(input_ids),\n",
    "                               torch.LongTensor(target_ids))\n",
    "    train_sampler = RandomSampler(train_data)\n",
    "    train_dataloader = DataLoader(train_data, sampler=train_sampler, batch_size=batch_size)\n",
    "    return fre, eng, train_dataloader, train_data"
   ]
  },
  {
   "attachments": {},
   "cell_type": "markdown",
   "metadata": {},
   "source": [
    "### TRAINING WITHOUT ATTENTION"
   ]
  },
  {
   "cell_type": "code",
   "execution_count": 7,
   "metadata": {},
   "outputs": [],
   "source": [
    "input_lang, output_lang, train_dataloader, train_dset = get_dataloader(32)\n",
    "test_ds = []\n",
    "with open(TEST_DATASET_PATH) as f:\n",
    "    for line in f:\n",
    "        engtext, fretext = line.split('\\t')\n",
    "        test_ds.append([normalizeString(fretext), normalizeString(engtext)])\n",
    "    test_ds = [pair for pair in test_ds if filter_pair(pair, MAXLEN)]    \n",
    "    \n",
    "loss = []\n",
    "hidden_size = 128\n",
    "learning_rate = 0.001\n",
    "encoder = EncoderRNN(input_lang.n_words, hidden_size)\n",
    "decoder = DecoderRNN(hidden_size, output_lang.n_words)\n",
    "encoder_optimizer = optim.Adam(encoder.parameters(), lr=learning_rate)\n",
    "decoder_optimizer = optim.Adam(decoder.parameters(), lr=learning_rate)\n",
    "criterion = nn.NLLLoss() \n",
    "EPOCHS = 50"
   ]
  },
  {
   "cell_type": "code",
   "execution_count": 8,
   "metadata": {},
   "outputs": [
    {
     "name": "stderr",
     "output_type": "stream",
     "text": [
      "  0%|          | 0/322 [00:00<?, ?it/s]"
     ]
    },
    {
     "name": "stderr",
     "output_type": "stream",
     "text": [
      "  0%|          | 0/322 [00:00<?, ?it/s]\n"
     ]
    }
   ],
   "source": [
    "\n",
    "plot_stats = {\n",
    "    'bleu_test': [],\n",
    "    'avg_train_loss': [],\n",
    "    'avg_test_loss': []\n",
    "}\n",
    "for epoch in range(EPOCHS):\n",
    "    dpoints = 0\n",
    "    epoch_loss = 0\n",
    "    encoder.train(), decoder.train()\n",
    "    for batch in tqdm(train_dataloader):\n",
    "        input_tensor, target_tensor = batch\n",
    "        encoder_optimizer.zero_grad()\n",
    "        decoder_optimizer.zero_grad()\n",
    "        encoder_outputs, encoder_hidden = encoder(input_tensor)\n",
    "        decoder_outputs, decoder_hidden, _ = decoder(encoder_outputs, encoder_hidden, target_tensor)\n",
    "        loss = criterion(\n",
    "            decoder_outputs.view(-1, decoder_outputs.size(-1)),\n",
    "            target_tensor.view(-1)\n",
    "        )\n",
    "        loss.backward()\n",
    "        encoder_optimizer.step()\n",
    "        decoder_optimizer.step()\n",
    "        epoch_loss +=loss.item()\n",
    "        dpoints += input_tensor.shape[0]\n",
    "\n",
    "    \n",
    "    bleu_dict, test_loss = translate_evaluate(input_lang, output_lang, test_ds, encoder, decoder)\n",
    "    plot_stats['bleu_test'].append(bleu_dict['bleu'])\n",
    "    plot_stats['avg_train_loss'].append(epoch_loss/dpoints)\n",
    "    plot_stats['avg_test_loss'].append(test_loss)"
   ]
  },
  {
   "cell_type": "code",
   "execution_count": 10,
   "metadata": {},
   "outputs": [
    {
     "data": {
      "text/plain": [
       "torch.Size([32, 10])"
      ]
     },
     "execution_count": 10,
     "metadata": {},
     "output_type": "execute_result"
    }
   ],
   "source": [
    "target_tensor.shape"
   ]
  },
  {
   "attachments": {},
   "cell_type": "markdown",
   "metadata": {},
   "source": [
    "## CODE TO SPLIT DATASET\n",
    "\n",
    "```python \n",
    "import random\n",
    "with open('./dataset/eng-fra.txt', encoding='utf-8') as f:\n",
    "    arr = f.readlines()\n",
    "random.shuffle(arr) # shuffles inline\n",
    "SPLIT_PERCENT = 0.10\n",
    "\n",
    "n = len(arr)\n",
    "n_test = round(n * SPLIT_PERCENT)\n",
    "n_train = n - n_test\n",
    "train_eng_fra = arr[:n_train]\n",
    "test_eng_fra = arr[n_train:]\n",
    "with open('./dataset/eng-fra-train.txt', 'w') as f_train:\n",
    "    f_train.writelines(train_eng_fra)\n",
    "with open('./dataset/eng-fra-test.txt', 'w') as f_test:\n",
    "    f_test.writelines(test_eng_fra)\n",
    "\n",
    "```"
   ]
  },
  {
   "attachments": {},
   "cell_type": "markdown",
   "metadata": {},
   "source": [
    "## Training With Attention\n"
   ]
  },
  {
   "cell_type": "code",
   "execution_count": 17,
   "metadata": {},
   "outputs": [],
   "source": [
    "\n",
    "at_loss = []\n",
    "\n",
    "at_encoder = EncoderRNN(input_lang.n_words, hidden_size)\n",
    "at_decoder = AttnDecoderRNN(hidden_size, output_lang.n_words)\n",
    "at_encoder_optimizer = optim.Adam(at_encoder.parameters(), lr=learning_rate)\n",
    "at_decoder_optimizer = optim.Adam(at_decoder.parameters(), lr=learning_rate)\n",
    "EPOCHS = 50\n"
   ]
  },
  {
   "cell_type": "code",
   "execution_count": null,
   "metadata": {},
   "outputs": [],
   "source": [
    "a_plot_stats = {\n",
    "    'bleu_test': [],\n",
    "    'avg_train_loss': [],\n",
    "    'avg_test_loss': []\n",
    "}\n",
    "for epoch in range(EPOCHS): \n",
    "    dpoints = 0\n",
    "    epoch_loss = 0\n",
    "    at_encoder.train(), at_decoder.train()\n",
    "    for batch in tqdm(train_dataloader):\n",
    "        input_tensor, target_tensor = batch\n",
    "        at_encoder_optimizer.zero_grad()\n",
    "        at_decoder_optimizer.zero_grad()\n",
    "        encoder_outputs, encoder_hidden = at_encoder(input_tensor)\n",
    "        decoder_outputs, decoder_hidden, _ = at_decoder(encoder_outputs, encoder_hidden, target_tensor)\n",
    "        loss = criterion(\n",
    "            decoder_outputs.view(-1, decoder_outputs.size(-1)),\n",
    "            target_tensor.view(-1)\n",
    "        )\n",
    "        loss.backward()\n",
    "        at_encoder_optimizer.step()\n",
    "        at_decoder_optimizer.step()\n",
    "        epoch_loss +=loss.item()\n",
    "        dpoints += input_tensor.shape[0]\n",
    "    \n",
    "    bleu_dict, test_loss = translate_evaluate(input_lang, output_lang, test_ds, at_encoder, at_decoder)\n",
    "    a_plot_stats['bleu_test'].append(bleu_dict['bleu'])\n",
    "    a_plot_stats['avg_train_loss'].append(epoch_loss/dpoints)\n",
    "    a_plot_stats['avg_test_loss'].append(test_loss)"
   ]
  },
  {
   "cell_type": "code",
   "execution_count": 19,
   "metadata": {},
   "outputs": [
    {
     "data": {
      "image/png": "[encoded data removed]"
     },
     "metadata": {},
     "output_type": "display_data"
    }
   ],
   "source": [
    "from plotly.subplots import make_subplots\n",
    "import plotly.graph_objects as go\n",
    "\n",
    "epochs = list(range(1, len(plot_stats['avg_train_loss'])+1))\n",
    "\n",
    "fig = make_subplots(rows=1, cols=2, shared_yaxes=True, column_titles=[\"without attention\", \"with attention\"])\n",
    "colours = {\"avg_train_loss\":\"red\", \n",
    " \"avg_test_loss\": \"orange\",\n",
    " \"bleu_test\": \"black\"}\n",
    "\n",
    "for ks in plot_stats.keys():\n",
    "    \n",
    "    y_val = plot_stats[ks]\n",
    "    y_name = ks\n",
    "    y_val_a = a_plot_stats[ks]\n",
    "    y_name_a = ks \n",
    "\n",
    "    fig.add_trace(go.Scatter(x=epochs, y=y_val,\n",
    "                    mode='lines',\n",
    "                    name=y_name, marker=dict(color= colours[y_name])), row=1, col=1)\n",
    "    \n",
    "    fig.add_trace(go.Scatter(x=epochs, y=y_val_a,\n",
    "                    mode='lines',\n",
    "                    name=y_name_a, marker=dict(color= colours[y_name_a]), showlegend=False), row=1, col=2)\n",
    "    \n",
    "fig.layout['title'] = 'Losses and Bleu'\n",
    "\n",
    "fig.show(renderer=\"png\")"
   ]
  }
 ],
 "metadata": {
  "kernelspec": {
   "display_name": "torch_learn",
   "language": "python",
   "name": "python3"
  },
  "language_info": {
   "codemirror_mode": {
    "name": "ipython",
    "version": 3
   },
   "file_extension": ".py",
   "mimetype": "text/x-python",
   "name": "python",
   "nbconvert_exporter": "python",
   "pygments_lexer": "ipython3",
   "version": "3.10.4"
  },
  "orig_nbformat": 4
 },
 "nbformat": 4,
 "nbformat_minor": 2
}
